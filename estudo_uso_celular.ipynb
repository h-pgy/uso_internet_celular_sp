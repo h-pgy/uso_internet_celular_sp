{
 "cells": [
  {
   "cell_type": "markdown",
   "id": "6bc67f58-e9b8-4465-984e-1b75d7a9ff3d",
   "metadata": {},
   "source": [
    "# Fatores inibidores do uso de celulares para internet\n",
    "## SEPEP/Assessoria Técnica\n",
    "\n",
    "### Sobre o Estudo\n",
    "Neste notebook, analisamos os fatores inibidores do acesso à internet por meio de celulares no Estado de São Paulo.\n",
    "\n",
    "O estudo se vale dos microdados da Pesquisa TIC Domicílios (https://cetic.br/pesquisa/domicilios/) realizada pelo  Centro Regional de Estudos para o Desenvolvimento da Sociedade da Informação, departamento de pesquisa do Núcleo de Informação e Coordenação do Ponto BR (NIC.br), ligado ao Comitê Gestor da Internet do Brasil (CGI.br).\n",
    "\n",
    "Trata-se de pesquisa anual sobre os hábitos de utilização de tecnologia e internet dos brasileiros, realizada de forma amostral com significância a nível de Estado.\n",
    "\n",
    "Os dados utilizados são os mais atualizados, e correspondem ao ano de 2022.\n",
    "\n",
    "### Principais resultados\n",
    "\n",
    "Após análise e tratamento dos dados, verificamos que:\n",
    "* No estado de São Paulo, aprox. 30% da população ou não possui acesso a um celular ou, apesar de ter acesso a um celular, não o utiliza para acessar a internet.\n",
    "\n",
    "Com objetivo de analisar os fatores associados à não-utilização do celular, implementamos uma Regressão Logística Múltipla.\n",
    "\n",
    "Com acurácia de aprox. 80%, nosso modelo pôde identificar que:\n",
    "* A condição de idoso;\n",
    "* A baixa escolaridade (analfabeto ou acesso apenas ao ensino infantil);\n",
    "* A baixa renda (sem renda ou menos que um salário mínimo);\n",
    "* E ser negro\n",
    "\n",
    "São fatores estatisticamente associados à uma menor propensão ao uso do celular para acesso à internet no Estado de São Paulo.\n"
   ]
  },
  {
   "cell_type": "markdown",
   "id": "6a9648b6-ba0b-4755-9228-83fe4dc78e8f",
   "metadata": {},
   "source": [
    "A seguir, carregamos as dependências utilizadas no estudo."
   ]
  },
  {
   "cell_type": "code",
   "execution_count": 1,
   "id": "46ee7aca-3b51-4792-b224-780fd02fcb41",
   "metadata": {},
   "outputs": [],
   "source": [
    "import pandas as pd\n",
    "import requests\n",
    "import os\n",
    "import numpy as np\n",
    "import seaborn as sns\n",
    "import matplotlib.pyplot as plt\n"
   ]
  },
  {
   "cell_type": "code",
   "execution_count": 2,
   "id": "7ebf1dfe-9341-4805-8446-9373ea9a62ee",
   "metadata": {},
   "outputs": [],
   "source": [
    "sns.set()"
   ]
  },
  {
   "cell_type": "markdown",
   "id": "0ef15c14-9fec-48a0-b242-0a3737a9fb90",
   "metadata": {},
   "source": [
    "### Download dos dados\n",
    "\n",
    "Com o objetivo de tornar este estudo plenamente replicável, abaixo desenvolvemos uma função que faz o download dos microdados a nível individual da TIC BR de 2022."
   ]
  },
  {
   "cell_type": "code",
   "execution_count": 3,
   "id": "74d49b5b-6eb6-4444-aa4b-81bc1bd7426d",
   "metadata": {},
   "outputs": [],
   "source": [
    "URL_MICRODADOS = 'https://cetic.br/media/microdados/694/tic_domicilios_2022_individuos_base_de_microdados_v1.0.csv'\n",
    "FOLDER_DADOS = 'data'\n",
    "\n",
    "def download_dados(fname:str, url:str=URL_MICRODADOS, folder:str=FOLDER_DADOS)->str:\n",
    "    \n",
    "    fpath = os.path.join(folder, fname)\n",
    "    \n",
    "    if os.path.exists(fpath):\n",
    "        return fpath\n",
    "    \n",
    "    #cria folder se nao existir\n",
    "    if not os.path.exists(folder):\n",
    "        os.mkdir(folder)\n",
    "        \n",
    "    with requests.get(url) as r:\n",
    "        data = r.text\n",
    "        \n",
    "    with open(fpath, 'w') as f:\n",
    "        f.write(data)\n",
    "    \n",
    "    return fpath"
   ]
  },
  {
   "cell_type": "code",
   "execution_count": 4,
   "id": "91d68acb-edac-49bf-8a72-9779a0c220b2",
   "metadata": {},
   "outputs": [],
   "source": [
    "fname = download_dados('microdados_ticbr_individuos.csv')"
   ]
  },
  {
   "cell_type": "code",
   "execution_count": 5,
   "id": "814c4aca-d9d7-4d1d-86cd-f25512c0516b",
   "metadata": {},
   "outputs": [
    {
     "data": {
      "text/plain": [
       "'data/microdados_ticbr_individuos.csv'"
      ]
     },
     "execution_count": 5,
     "metadata": {},
     "output_type": "execute_result"
    }
   ],
   "source": [
    "fname"
   ]
  },
  {
   "cell_type": "code",
   "execution_count": 6,
   "id": "4150b671-cce9-4af3-b81e-d079632ac8b2",
   "metadata": {},
   "outputs": [],
   "source": [
    "df = pd.read_csv(fname, sep=';')"
   ]
  },
  {
   "cell_type": "code",
   "execution_count": 7,
   "id": "80b4a68f-e742-4406-aded-c664936078dc",
   "metadata": {},
   "outputs": [
    {
     "data": {
      "text/html": [
       "<div>\n",
       "<style scoped>\n",
       "    .dataframe tbody tr th:only-of-type {\n",
       "        vertical-align: middle;\n",
       "    }\n",
       "\n",
       "    .dataframe tbody tr th {\n",
       "        vertical-align: top;\n",
       "    }\n",
       "\n",
       "    .dataframe thead th {\n",
       "        text-align: right;\n",
       "    }\n",
       "</style>\n",
       "<table border=\"1\" class=\"dataframe\">\n",
       "  <thead>\n",
       "    <tr style=\"text-align: right;\">\n",
       "      <th></th>\n",
       "      <th>QUEST</th>\n",
       "      <th>ID_DOMICILIO</th>\n",
       "      <th>ID_MORADOR</th>\n",
       "      <th>SEXO</th>\n",
       "      <th>IDADE</th>\n",
       "      <th>FAIXA_ETARIA</th>\n",
       "      <th>GRAU_INSTRUCAO</th>\n",
       "      <th>PEA</th>\n",
       "      <th>RENDA_PESSOAL</th>\n",
       "      <th>RACA</th>\n",
       "      <th>...</th>\n",
       "      <th>rep191</th>\n",
       "      <th>rep192</th>\n",
       "      <th>rep193</th>\n",
       "      <th>rep194</th>\n",
       "      <th>rep195</th>\n",
       "      <th>rep196</th>\n",
       "      <th>rep197</th>\n",
       "      <th>rep198</th>\n",
       "      <th>rep199</th>\n",
       "      <th>rep200</th>\n",
       "    </tr>\n",
       "  </thead>\n",
       "  <tbody>\n",
       "    <tr>\n",
       "      <th>0</th>\n",
       "      <td>168775373</td>\n",
       "      <td>5072</td>\n",
       "      <td>2</td>\n",
       "      <td>2</td>\n",
       "      <td>24</td>\n",
       "      <td>2</td>\n",
       "      <td>10</td>\n",
       "      <td>1</td>\n",
       "      <td>1</td>\n",
       "      <td>1</td>\n",
       "      <td>...</td>\n",
       "      <td>2</td>\n",
       "      <td>1</td>\n",
       "      <td>1</td>\n",
       "      <td>1</td>\n",
       "      <td>1</td>\n",
       "      <td>1</td>\n",
       "      <td>0</td>\n",
       "      <td>0</td>\n",
       "      <td>2</td>\n",
       "      <td>2</td>\n",
       "    </tr>\n",
       "    <tr>\n",
       "      <th>1</th>\n",
       "      <td>168775374</td>\n",
       "      <td>5073</td>\n",
       "      <td>1</td>\n",
       "      <td>2</td>\n",
       "      <td>58</td>\n",
       "      <td>5</td>\n",
       "      <td>9</td>\n",
       "      <td>5</td>\n",
       "      <td>9</td>\n",
       "      <td>3</td>\n",
       "      <td>...</td>\n",
       "      <td>2</td>\n",
       "      <td>1</td>\n",
       "      <td>1</td>\n",
       "      <td>1</td>\n",
       "      <td>1</td>\n",
       "      <td>1</td>\n",
       "      <td>0</td>\n",
       "      <td>0</td>\n",
       "      <td>2</td>\n",
       "      <td>2</td>\n",
       "    </tr>\n",
       "    <tr>\n",
       "      <th>2</th>\n",
       "      <td>168775378</td>\n",
       "      <td>5077</td>\n",
       "      <td>2</td>\n",
       "      <td>2</td>\n",
       "      <td>64</td>\n",
       "      <td>6</td>\n",
       "      <td>10</td>\n",
       "      <td>5</td>\n",
       "      <td>1</td>\n",
       "      <td>3</td>\n",
       "      <td>...</td>\n",
       "      <td>2</td>\n",
       "      <td>1</td>\n",
       "      <td>1</td>\n",
       "      <td>1</td>\n",
       "      <td>1</td>\n",
       "      <td>1</td>\n",
       "      <td>0</td>\n",
       "      <td>0</td>\n",
       "      <td>2</td>\n",
       "      <td>2</td>\n",
       "    </tr>\n",
       "    <tr>\n",
       "      <th>3</th>\n",
       "      <td>168775379</td>\n",
       "      <td>5079</td>\n",
       "      <td>1</td>\n",
       "      <td>1</td>\n",
       "      <td>48</td>\n",
       "      <td>5</td>\n",
       "      <td>6</td>\n",
       "      <td>1</td>\n",
       "      <td>1</td>\n",
       "      <td>3</td>\n",
       "      <td>...</td>\n",
       "      <td>2</td>\n",
       "      <td>1</td>\n",
       "      <td>1</td>\n",
       "      <td>1</td>\n",
       "      <td>1</td>\n",
       "      <td>1</td>\n",
       "      <td>0</td>\n",
       "      <td>0</td>\n",
       "      <td>2</td>\n",
       "      <td>2</td>\n",
       "    </tr>\n",
       "    <tr>\n",
       "      <th>4</th>\n",
       "      <td>168775380</td>\n",
       "      <td>5080</td>\n",
       "      <td>5</td>\n",
       "      <td>2</td>\n",
       "      <td>55</td>\n",
       "      <td>5</td>\n",
       "      <td>1</td>\n",
       "      <td>1</td>\n",
       "      <td>1</td>\n",
       "      <td>2</td>\n",
       "      <td>...</td>\n",
       "      <td>2</td>\n",
       "      <td>1</td>\n",
       "      <td>1</td>\n",
       "      <td>1</td>\n",
       "      <td>1</td>\n",
       "      <td>1</td>\n",
       "      <td>0</td>\n",
       "      <td>0</td>\n",
       "      <td>2</td>\n",
       "      <td>2</td>\n",
       "    </tr>\n",
       "  </tbody>\n",
       "</table>\n",
       "<p>5 rows × 438 columns</p>\n",
       "</div>"
      ],
      "text/plain": [
       "       QUEST  ID_DOMICILIO  ID_MORADOR  SEXO  IDADE  FAIXA_ETARIA  \\\n",
       "0  168775373          5072           2     2     24             2   \n",
       "1  168775374          5073           1     2     58             5   \n",
       "2  168775378          5077           2     2     64             6   \n",
       "3  168775379          5079           1     1     48             5   \n",
       "4  168775380          5080           5     2     55             5   \n",
       "\n",
       "   GRAU_INSTRUCAO  PEA  RENDA_PESSOAL  RACA  ...  rep191  rep192  rep193  \\\n",
       "0              10    1              1     1  ...       2       1       1   \n",
       "1               9    5              9     3  ...       2       1       1   \n",
       "2              10    5              1     3  ...       2       1       1   \n",
       "3               6    1              1     3  ...       2       1       1   \n",
       "4               1    1              1     2  ...       2       1       1   \n",
       "\n",
       "   rep194  rep195  rep196  rep197  rep198  rep199  rep200  \n",
       "0       1       1       1       0       0       2       2  \n",
       "1       1       1       1       0       0       2       2  \n",
       "2       1       1       1       0       0       2       2  \n",
       "3       1       1       1       0       0       2       2  \n",
       "4       1       1       1       0       0       2       2  \n",
       "\n",
       "[5 rows x 438 columns]"
      ]
     },
     "execution_count": 7,
     "metadata": {},
     "output_type": "execute_result"
    }
   ],
   "source": [
    "df.head()"
   ]
  },
  {
   "cell_type": "markdown",
   "id": "128e97ee-6b24-4d9e-ba2d-6d543a329fae",
   "metadata": {},
   "source": [
    "### Limpeza dos dados\n",
    "\n",
    "A seguir, realizamos a limpeza dos dados.\n",
    "\n",
    "Eles são filtrados para a Região Sudeste, onde se situa o município de São Paulo."
   ]
  },
  {
   "cell_type": "code",
   "execution_count": 8,
   "id": "4dc61f56-b79d-47b0-8ed2-5aa15957b372",
   "metadata": {},
   "outputs": [
    {
     "data": {
      "text/plain": [
       "Index(['QUEST', 'ID_DOMICILIO', 'ID_MORADOR', 'SEXO', 'IDADE', 'FAIXA_ETARIA',\n",
       "       'GRAU_INSTRUCAO', 'PEA', 'RENDA_PESSOAL', 'RACA', 'C1', 'C2_A'],\n",
       "      dtype='object')"
      ]
     },
     "execution_count": 8,
     "metadata": {},
     "output_type": "execute_result"
    }
   ],
   "source": [
    "df.columns[:12]"
   ]
  },
  {
   "cell_type": "markdown",
   "id": "d8468d71-11b8-46cb-b56a-126a032f6468",
   "metadata": {},
   "source": [
    "Filtrar para a região sudeste (infelizmente não tem amostragem a nível de município)"
   ]
  },
  {
   "cell_type": "code",
   "execution_count": 9,
   "id": "63e4de0c-4a6a-4fd5-87eb-f43f0bf0c881",
   "metadata": {},
   "outputs": [],
   "source": [
    "regiao_sudeste = 1\n",
    "\n",
    "filtro_regiao_sudeste = df['COD_REGIAO_2']==regiao_sudeste\n",
    "\n",
    "df = df[filtro_regiao_sudeste].reset_index(drop=True)"
   ]
  },
  {
   "cell_type": "code",
   "execution_count": 10,
   "id": "13e710d2-aa91-4f82-a478-9550672f6876",
   "metadata": {},
   "outputs": [
    {
     "data": {
      "text/plain": [
       "2705"
      ]
     },
     "execution_count": 10,
     "metadata": {},
     "output_type": "execute_result"
    }
   ],
   "source": [
    "len(df)"
   ]
  },
  {
   "cell_type": "markdown",
   "id": "6ed26ea0-3413-4347-a07e-f600fc70e388",
   "metadata": {},
   "source": [
    "Nas células a seguir, com base no dicionário de variáveis disponibilizados pela CETIC, traduzimos os códigos tabulados na base de dados para seus resultados."
   ]
  },
  {
   "cell_type": "markdown",
   "id": "a1c4fdb9-3129-43a9-aa90-178b1071c590",
   "metadata": {},
   "source": [
    "A questão J3 questiona se o indivíduo utilizou o celular para acesso à internet nos últimos 3 meses."
   ]
  },
  {
   "cell_type": "code",
   "execution_count": 11,
   "id": "aa2ff997-02b9-4c54-87fb-9812822dbaa2",
   "metadata": {},
   "outputs": [],
   "source": [
    "mapper_respostas = {\n",
    "    0:\"Não\",\n",
    "    1:\"Sim\",\n",
    "    97:\"Não sabe\",\n",
    "    98:\"Não respondeu\",\n",
    "    99:\"Não se aplica\"\n",
    "}"
   ]
  },
  {
   "cell_type": "code",
   "execution_count": 12,
   "id": "58fcc6ab-8cec-4548-90b3-c0011d45c680",
   "metadata": {},
   "outputs": [],
   "source": [
    "usou_celular_para_internet = 'J3'\n"
   ]
  },
  {
   "cell_type": "code",
   "execution_count": 13,
   "id": "c12e213c-3010-4d15-88ba-ed57c31d132f",
   "metadata": {},
   "outputs": [],
   "source": [
    "df['usou_celular_para_internet'] = df['J3'].map(mapper_respostas)"
   ]
  },
  {
   "cell_type": "code",
   "execution_count": 14,
   "id": "ca0a93c2-ad0d-4eeb-af7b-476fb8633a6a",
   "metadata": {},
   "outputs": [
    {
     "data": {
      "text/plain": [
       "Sim              0.720518\n",
       "Não se aplica    0.141220\n",
       "Não              0.137153\n",
       "Não sabe         0.001109\n",
       "Name: usou_celular_para_internet, dtype: float64"
      ]
     },
     "execution_count": 14,
     "metadata": {},
     "output_type": "execute_result"
    }
   ],
   "source": [
    "df['usou_celular_para_internet'].value_counts(normalize=True)"
   ]
  },
  {
   "cell_type": "markdown",
   "id": "70c25c5e-0b0d-4939-bd74-956bb343e55d",
   "metadata": {},
   "source": [
    "A questão J1 questiona se o indivíduo utilizou um celular nos últimos 3 meses. Como verificamos abaixo, caso ele não tenha utilizado um celular nos últimos 3 meses, sua resposta para a questão J3 (se usou o celular para acesso à internet) é \"Não se aplica\", o que é consistente."
   ]
  },
  {
   "cell_type": "code",
   "execution_count": 15,
   "id": "1329c56b-a087-4de4-9274-1a7561c9b5d9",
   "metadata": {},
   "outputs": [],
   "source": [
    "df['usou_celular_3_meses'] = df['J1'].map(mapper_respostas)"
   ]
  },
  {
   "cell_type": "markdown",
   "id": "f9ec90c9-d840-4457-8b16-b9e9d3c93d57",
   "metadata": {},
   "source": [
    "Veja abaixo que os dados são consistentes:"
   ]
  },
  {
   "cell_type": "code",
   "execution_count": 16,
   "id": "f3da78e5-c004-4a70-8a0f-066e478fab37",
   "metadata": {},
   "outputs": [
    {
     "data": {
      "text/plain": [
       "array(['Não'], dtype=object)"
      ]
     },
     "execution_count": 16,
     "metadata": {},
     "output_type": "execute_result"
    }
   ],
   "source": [
    "df[df['usou_celular_para_internet']=='Não se aplica']['usou_celular_3_meses'].unique()"
   ]
  },
  {
   "cell_type": "markdown",
   "id": "f07f96d8-bc59-428d-90fe-c838bb7536e5",
   "metadata": {},
   "source": [
    "Com isso, reajustamos a resposta \"Não se aplica\" para a questão J3 para \"Não tem acesso a celular\"."
   ]
  },
  {
   "cell_type": "code",
   "execution_count": 17,
   "id": "bb405128-f121-4ad9-b3c5-1c17fb20014b",
   "metadata": {},
   "outputs": [],
   "source": [
    "df['usou_celular_para_internet'] = df['usou_celular_para_internet'].apply(lambda x: 'Não tem acesso a celular' if x=='Não se aplica' else x)"
   ]
  },
  {
   "cell_type": "code",
   "execution_count": 18,
   "id": "06e5306c-f68b-40c2-a905-58031f3b9adc",
   "metadata": {},
   "outputs": [
    {
     "data": {
      "text/plain": [
       "Sim                         0.720518\n",
       "Não tem acesso a celular    0.141220\n",
       "Não                         0.137153\n",
       "Não sabe                    0.001109\n",
       "Name: usou_celular_para_internet, dtype: float64"
      ]
     },
     "execution_count": 18,
     "metadata": {},
     "output_type": "execute_result"
    }
   ],
   "source": [
    "df['usou_celular_para_internet'].value_counts(normalize=True)"
   ]
  },
  {
   "cell_type": "markdown",
   "id": "1043fcb2-59fa-4d41-9883-3580a38f6565",
   "metadata": {},
   "source": [
    "Todos os que responderam que não usaram celular para internet, usaram algum celular (ou seja tem acesso) nos últimos 3 meses"
   ]
  },
  {
   "cell_type": "code",
   "execution_count": 19,
   "id": "4021ee86-7f8d-4133-8a82-9dd5e129f813",
   "metadata": {},
   "outputs": [
    {
     "data": {
      "text/plain": [
       "array(['Sim'], dtype=object)"
      ]
     },
     "execution_count": 19,
     "metadata": {},
     "output_type": "execute_result"
    }
   ],
   "source": [
    "df[df['usou_celular_para_internet']=='Não']['usou_celular_3_meses'].unique()"
   ]
  },
  {
   "cell_type": "code",
   "execution_count": 20,
   "id": "863a5a3d-f3ee-44a5-ae96-de6743644a39",
   "metadata": {},
   "outputs": [
    {
     "data": {
      "text/plain": [
       "array(['Sim'], dtype=object)"
      ]
     },
     "execution_count": 20,
     "metadata": {},
     "output_type": "execute_result"
    }
   ],
   "source": [
    "df[df['usou_celular_para_internet']=='Não sabe']['usou_celular_3_meses'].unique()"
   ]
  },
  {
   "cell_type": "code",
   "execution_count": 21,
   "id": "789457b5-e8bf-45c2-b1e9-6524691b1a18",
   "metadata": {},
   "outputs": [
    {
     "data": {
      "image/png": "[encoded data removed]",
      "text/plain": [
       "<Figure size 432x288 with 1 Axes>"
      ]
     },
     "metadata": {
      "needs_background": "light"
     },
     "output_type": "display_data"
    }
   ],
   "source": [
    "ax = df['usou_celular_para_internet'].value_counts(normalize=True).plot.barh(title='Uso do celular para internet no Sudeste')\n",
    "\n",
    "\n",
    "ax.bar_label(ax.containers[0], fmt='{:.2%}')\n",
    "plt.tight_layout()\n",
    "fig = ax.get_figure()\n",
    "fig.savefig('grafico_uso_celular.jpeg')\n"
   ]
  },
  {
   "cell_type": "markdown",
   "id": "bf16009a-0f25-4fd6-a6e9-158371689dee",
   "metadata": {},
   "source": [
    "### Seleção de variáveis\n",
    "\n",
    "A seguir, selecionamos as variáveis explicativas de interesse em nosso estudo e mapeamos seus códigos "
   ]
  },
  {
   "cell_type": "markdown",
   "id": "9aa819b7-471d-4855-a03c-b86405e32d74",
   "metadata": {},
   "source": [
    "Vamos usar a variável renda"
   ]
  },
  {
   "cell_type": "code",
   "execution_count": 22,
   "id": "0856a1c6-59da-4b85-b937-a5235a4688aa",
   "metadata": {},
   "outputs": [],
   "source": [
    "mapper_renda = {\n",
    "    1:\"Até R$ 1.302,00\",\n",
    "    2:\"De R$ 1.302,01 até R$ 2.604,00\",\n",
    "    3:\"De R$ 2.604,01 até R$ 3.906,00\",\n",
    "    4:\"De R$ 3.906,01 até R$ 6.510,00\",\n",
    "    5:\"De R$ 6.510,01 até R$ 13.020,00\",\n",
    "    6:\"De R$ 13.020,01 até R$ 26.040,00\",\n",
    "    7:\"De R$ 26.040,01 até R$ 39.060,00\",\n",
    "    8:\"Mais de R$ 39.060,00\",\n",
    "    9:\"Não tem renda\",\n",
    "    97:\"Não sabe\",\n",
    "    98:\"Não respondeu\",\n",
    "}"
   ]
  },
  {
   "cell_type": "code",
   "execution_count": 23,
   "id": "d24633e0-7946-48ae-9147-fbbe09bca323",
   "metadata": {},
   "outputs": [],
   "source": [
    "df['renda_pessoal']  = df['RENDA_PESSOAL'].apply(lambda x: mapper_renda[x])"
   ]
  },
  {
   "cell_type": "markdown",
   "id": "775ae910-a4d4-4fa3-81c6-c39259472fce",
   "metadata": {},
   "source": [
    "E raca"
   ]
  },
  {
   "cell_type": "code",
   "execution_count": 24,
   "id": "7beba14a-ab60-42be-b6e6-b3d60daae2c0",
   "metadata": {},
   "outputs": [
    {
     "data": {
      "text/plain": [
       "array([ 1,  3,  2,  4,  5, 98])"
      ]
     },
     "execution_count": 24,
     "metadata": {},
     "output_type": "execute_result"
    }
   ],
   "source": [
    "df['RACA'].unique()"
   ]
  },
  {
   "cell_type": "code",
   "execution_count": 25,
   "id": "b60c22cb-eaac-4a0c-953a-63dc3d4977d8",
   "metadata": {},
   "outputs": [],
   "source": [
    "mapper_raca = {1:\"Branca\",\n",
    "2:\"Preta\",\n",
    "3:\"Parda\",\n",
    "4:\"Amarela\",\n",
    "5:\"Indígena\",\n",
    "98:\"Não respondesu\"}"
   ]
  },
  {
   "cell_type": "code",
   "execution_count": 26,
   "id": "1e9c471b-5128-4872-a356-a12884a760e5",
   "metadata": {},
   "outputs": [],
   "source": [
    "df['raca'] = df['RACA'].map(mapper_raca)"
   ]
  },
  {
   "cell_type": "markdown",
   "id": "2b396ba4-539e-4ecf-813d-5b486cbcc161",
   "metadata": {},
   "source": [
    "E grau de instrucao"
   ]
  },
  {
   "cell_type": "code",
   "execution_count": 27,
   "id": "b5169008-b0cc-4c9b-8c3e-548cf70af463",
   "metadata": {},
   "outputs": [],
   "source": [
    "mapper_instrucao = {\n",
    "1:\"Analfabeto/Educação Infantil\",\n",
    "2:\"Fundamental\",\n",
    "3:\"Médio\",\n",
    "4:\"Superior\",\n",
    "}"
   ]
  },
  {
   "cell_type": "code",
   "execution_count": 28,
   "id": "53767fe9-e520-423a-95b8-4f4240cf9b73",
   "metadata": {},
   "outputs": [],
   "source": [
    "df['grau_instrucao'] = df['GRAU_INSTRUCAO_2'].map(mapper_instrucao)"
   ]
  },
  {
   "cell_type": "markdown",
   "id": "b2e02e8d-72ae-4044-bcec-ce7f4fab0af6",
   "metadata": {},
   "source": [
    "E condição de atividade (empregado ou nao)"
   ]
  },
  {
   "cell_type": "code",
   "execution_count": 29,
   "id": "9a7200aa-72a6-440a-9e1b-f3a6605140ce",
   "metadata": {},
   "outputs": [],
   "source": [
    "mapper_atividade = {\n",
    "1:\"Na força de trabalho\",\n",
    "2:\"Fora da força de trabalho\",\n",
    "}"
   ]
  },
  {
   "cell_type": "code",
   "execution_count": 30,
   "id": "ef446ca3-da26-43af-b0d1-03160aef56d4",
   "metadata": {},
   "outputs": [],
   "source": [
    "df['condicao_atividade'] = df['PEA_2'].map(mapper_atividade)"
   ]
  },
  {
   "cell_type": "markdown",
   "id": "c32255a5-82f8-4c3f-a46a-f827b991d283",
   "metadata": {},
   "source": [
    "E faixa etária"
   ]
  },
  {
   "cell_type": "code",
   "execution_count": 31,
   "id": "63a22705-2beb-490e-a0de-011a01dc2632",
   "metadata": {},
   "outputs": [],
   "source": [
    "mapper_faixa_etaria = {1:\"De 10 a 15 anos\",\n",
    "                    2:\"De 16 a 24 anos\",\n",
    "                    3:\"De 25 a 34 anos\",\n",
    "                    4:\"De 35 a 44 anos\",\n",
    "                    5:\"De 45 a 59 anos\",\n",
    "                    6:\"De 60 anos ou mais\"}"
   ]
  },
  {
   "cell_type": "code",
   "execution_count": 32,
   "id": "eec83f41-01fc-4623-b81f-ee368b876310",
   "metadata": {},
   "outputs": [],
   "source": [
    "df['faixa_etaria'] = df['FAIXA_ETARIA'].map(mapper_faixa_etaria)"
   ]
  },
  {
   "cell_type": "markdown",
   "id": "ac2364c2-a5f6-42e4-bff3-4ee3562ed654",
   "metadata": {},
   "source": [
    "E sexo"
   ]
  },
  {
   "cell_type": "code",
   "execution_count": 33,
   "id": "8bbecbb5-ab0d-47b3-bbe0-e0fe24d11c6e",
   "metadata": {},
   "outputs": [],
   "source": [
    "mapper_sexo = {1: 'masculino', 2 : 'feminino'}\n",
    "\n",
    "df['sexo'] = df['SEXO'].map(mapper_sexo)"
   ]
  },
  {
   "cell_type": "markdown",
   "id": "8a5b68a6-880b-4a66-b46f-7eb6b05d8348",
   "metadata": {},
   "source": [
    "Vamos verificar se cada registro identifica uma pessoa única dentro de um município"
   ]
  },
  {
   "cell_type": "code",
   "execution_count": 34,
   "id": "bce13e78-c810-4863-a1f8-63786fd2cdd5",
   "metadata": {},
   "outputs": [
    {
     "data": {
      "text/plain": [
       "True"
      ]
     },
     "execution_count": 34,
     "metadata": {},
     "output_type": "execute_result"
    }
   ],
   "source": [
    "(df['ID_DOMICILIO'].astype(str) + '.' + df['ID_MORADOR'].astype(str)).duplicated().any()==False"
   ]
  },
  {
   "cell_type": "code",
   "execution_count": 35,
   "id": "35b5134d-9d10-45cd-98a6-b96fa2d6869c",
   "metadata": {},
   "outputs": [
    {
     "data": {
      "text/plain": [
       "True"
      ]
     },
     "execution_count": 35,
     "metadata": {},
     "output_type": "execute_result"
    }
   ],
   "source": [
    "(df['ID_DOMICILIO'].astype(str) + '.' + df['ID_MORADOR'].astype(str)).nunique()==len(df)"
   ]
  },
  {
   "cell_type": "markdown",
   "id": "25066e52-8caf-4e9e-b1cb-dab53e789d0d",
   "metadata": {},
   "source": [
    "Com isso, podemos filtrar o dataframe para nossos dados de interesse."
   ]
  },
  {
   "cell_type": "code",
   "execution_count": 36,
   "id": "ded3455e-54a7-42e1-8105-eb3cc596e796",
   "metadata": {},
   "outputs": [],
   "source": [
    "colunas_interesse = [\n",
    "    'sexo',\n",
    "    'raca', \n",
    "    'faixa_etaria',\n",
    "    'grau_instrucao',\n",
    "    'renda_pessoal', \n",
    "    'condicao_atividade',  \n",
    "    'usou_celular_para_internet'\n",
    "    \n",
    "]"
   ]
  },
  {
   "cell_type": "code",
   "execution_count": 37,
   "id": "2b107ea7-e959-4f4e-a80c-7c7c56bf6dd9",
   "metadata": {},
   "outputs": [],
   "source": [
    "df = df[colunas_interesse]"
   ]
  },
  {
   "cell_type": "code",
   "execution_count": 38,
   "id": "eb3b6ab8-0f4e-4e65-bf3b-36c6aec76f26",
   "metadata": {},
   "outputs": [
    {
     "data": {
      "text/plain": [
       "Index(['sexo', 'raca', 'faixa_etaria', 'grau_instrucao', 'renda_pessoal',\n",
       "       'condicao_atividade', 'usou_celular_para_internet'],\n",
       "      dtype='object')"
      ]
     },
     "execution_count": 38,
     "metadata": {},
     "output_type": "execute_result"
    }
   ],
   "source": [
    "df.columns"
   ]
  },
  {
   "cell_type": "markdown",
   "id": "bb5f83ff-a447-492d-9f82-4c9883fe48a5",
   "metadata": {},
   "source": [
    "A ultima coisa que precisamos fazer é filtrar as crianças"
   ]
  },
  {
   "cell_type": "code",
   "execution_count": 39,
   "id": "933f933c-06e6-4f1d-9647-1ba59bc4aa4c",
   "metadata": {},
   "outputs": [
    {
     "data": {
      "text/plain": [
       "array(['De 35 a 44 anos', 'De 45 a 59 anos', 'De 16 a 24 anos',\n",
       "       'De 25 a 34 anos', 'De 60 anos ou mais', 'De 10 a 15 anos'],\n",
       "      dtype=object)"
      ]
     },
     "execution_count": 39,
     "metadata": {},
     "output_type": "execute_result"
    }
   ],
   "source": [
    "df['faixa_etaria'].unique()"
   ]
  },
  {
   "cell_type": "code",
   "execution_count": 40,
   "id": "5fd8a569-ea60-4b40-a530-e53d9adc8332",
   "metadata": {},
   "outputs": [],
   "source": [
    "df = df[df['faixa_etaria']!='De 10 a 15 anos'].reset_index(drop=True)"
   ]
  },
  {
   "cell_type": "code",
   "execution_count": 41,
   "id": "b1b2b148-3b97-41f7-8d25-927490baef45",
   "metadata": {},
   "outputs": [
    {
     "data": {
      "text/plain": [
       "array(['De 35 a 44 anos', 'De 45 a 59 anos', 'De 16 a 24 anos',\n",
       "       'De 25 a 34 anos', 'De 60 anos ou mais'], dtype=object)"
      ]
     },
     "execution_count": 41,
     "metadata": {},
     "output_type": "execute_result"
    }
   ],
   "source": [
    "df['faixa_etaria'].unique()"
   ]
  },
  {
   "cell_type": "markdown",
   "id": "4bfee0d4-ffdd-4071-99a3-e88ac4d4e649",
   "metadata": {},
   "source": [
    "### Construção das features\n",
    "\n",
    "Coma base em nossas variáveis de interesse, construímos as features que integrarão o modelo e as formatamos como dummies."
   ]
  },
  {
   "cell_type": "code",
   "execution_count": 42,
   "id": "6313d68f-3f95-4a28-b640-21b6b13023e3",
   "metadata": {},
   "outputs": [],
   "source": [
    "df_final = pd.DataFrame()"
   ]
  },
  {
   "cell_type": "markdown",
   "id": "0d8b3dc4-d778-49c3-850c-fbf941c72ca8",
   "metadata": {},
   "source": [
    "Primeiro nossa variavel y"
   ]
  },
  {
   "cell_type": "code",
   "execution_count": 43,
   "id": "404fafac-05da-4266-921d-7c1d9f1db3cc",
   "metadata": {},
   "outputs": [
    {
     "data": {
      "text/plain": [
       "array(['Não', 'Sim', 'Não tem acesso a celular', 'Não sabe'], dtype=object)"
      ]
     },
     "execution_count": 43,
     "metadata": {},
     "output_type": "execute_result"
    }
   ],
   "source": [
    "df['usou_celular_para_internet'].unique()"
   ]
  },
  {
   "cell_type": "markdown",
   "id": "07b49bd0-ece2-4662-bceb-c0f3833f97e0",
   "metadata": {},
   "source": [
    "Temos que filtrar aqueles que responderam 'Não sabe', pois pode dificultar o modelo."
   ]
  },
  {
   "cell_type": "code",
   "execution_count": 44,
   "id": "dbbdbd92-7d18-49b1-ba29-c0482ffdf5f1",
   "metadata": {},
   "outputs": [],
   "source": [
    "df = df[df['usou_celular_para_internet']!='Não sabe'].reset_index(drop=True)"
   ]
  },
  {
   "cell_type": "code",
   "execution_count": 45,
   "id": "204e1de8-af1f-4f55-91af-b528f2fe672a",
   "metadata": {},
   "outputs": [
    {
     "data": {
      "text/plain": [
       "2595"
      ]
     },
     "execution_count": 45,
     "metadata": {},
     "output_type": "execute_result"
    }
   ],
   "source": [
    "len(df)"
   ]
  },
  {
   "cell_type": "markdown",
   "id": "d01d1299-a78b-410e-8041-54b6091ba3af",
   "metadata": {},
   "source": [
    "E vamos binarizar: o sucesso é \"Sim\", usou o celular, independentemente de ter acesso a um ou não."
   ]
  },
  {
   "cell_type": "code",
   "execution_count": 46,
   "id": "16d07597-ccb3-4c48-a628-3aa4303da49f",
   "metadata": {},
   "outputs": [],
   "source": [
    "df_final['usou_celular_para_internet'] = (df['usou_celular_para_internet']=='Sim').astype(int)"
   ]
  },
  {
   "cell_type": "markdown",
   "id": "09343062-3c1d-4fd4-9d57-07b35c2e1e22",
   "metadata": {},
   "source": [
    "Vamos identificar os idosos"
   ]
  },
  {
   "cell_type": "code",
   "execution_count": 47,
   "id": "eb6fe2e5-13cf-4e3c-97c6-141cb607496b",
   "metadata": {},
   "outputs": [],
   "source": [
    "df_final['idoso'] = (df['faixa_etaria']=='De 60 anos ou mais').astype(int)"
   ]
  },
  {
   "cell_type": "markdown",
   "id": "6eef4a40-8ca5-47e6-8ef7-c27d3f10fc73",
   "metadata": {},
   "source": [
    "Identificar desempregados:\n",
    "\n",
    "Que sao os que estao fora da força de trabalho e nao sao idosos (crianças já filtramos)"
   ]
  },
  {
   "cell_type": "code",
   "execution_count": 48,
   "id": "27cfeba3-ceaa-4037-8946-862b2642bc48",
   "metadata": {},
   "outputs": [
    {
     "data": {
      "text/plain": [
       "array(['Na força de trabalho', 'Fora da força de trabalho'], dtype=object)"
      ]
     },
     "execution_count": 48,
     "metadata": {},
     "output_type": "execute_result"
    }
   ],
   "source": [
    "df['condicao_atividade'].unique()"
   ]
  },
  {
   "cell_type": "code",
   "execution_count": 49,
   "id": "748f1e08-4848-47a5-996c-4c7f7da15da1",
   "metadata": {},
   "outputs": [],
   "source": [
    "df_final['desempregado'] = ((df['condicao_atividade']=='Fora da força de trabalho')\n",
    "                            &(~df_final['idoso'])).astype(int)"
   ]
  },
  {
   "cell_type": "code",
   "execution_count": 50,
   "id": "fcb54f90-ac09-4530-bb05-e91bc6f7cdaf",
   "metadata": {},
   "outputs": [
    {
     "data": {
      "text/plain": [
       "array([0, 1])"
      ]
     },
     "execution_count": 50,
     "metadata": {},
     "output_type": "execute_result"
    }
   ],
   "source": [
    "df_final['desempregado'].unique()"
   ]
  },
  {
   "cell_type": "markdown",
   "id": "43fb300e-94cb-4715-96f0-49bdf4d4d024",
   "metadata": {},
   "source": [
    "Negros"
   ]
  },
  {
   "cell_type": "code",
   "execution_count": 51,
   "id": "e83b7863-e027-4625-9c0b-14749ea5f35d",
   "metadata": {},
   "outputs": [
    {
     "data": {
      "text/plain": [
       "array(['Branca', 'Parda', 'Preta', 'Amarela', 'Indígena',\n",
       "       'Não respondesu'], dtype=object)"
      ]
     },
     "execution_count": 51,
     "metadata": {},
     "output_type": "execute_result"
    }
   ],
   "source": [
    "df['raca'].unique()"
   ]
  },
  {
   "cell_type": "code",
   "execution_count": 52,
   "id": "a45a351d-1061-40e0-89d1-4b497491281b",
   "metadata": {},
   "outputs": [],
   "source": [
    "df_final['negro'] = (df['raca'].isin(['Preta', 'Parda'])).astype(int)"
   ]
  },
  {
   "cell_type": "code",
   "execution_count": 53,
   "id": "bc4cdaf3-5c7b-49c8-8c9c-337087117d76",
   "metadata": {},
   "outputs": [
    {
     "data": {
      "text/plain": [
       "array([0, 1])"
      ]
     },
     "execution_count": 53,
     "metadata": {},
     "output_type": "execute_result"
    }
   ],
   "source": [
    "df_final['negro'].unique()"
   ]
  },
  {
   "cell_type": "markdown",
   "id": "1f280ada-560a-41e5-ae5d-0415ca8562a7",
   "metadata": {},
   "source": [
    "Mulheres"
   ]
  },
  {
   "cell_type": "code",
   "execution_count": 54,
   "id": "f3bab4b6-b20d-4a87-8b78-ff268df2ce64",
   "metadata": {},
   "outputs": [
    {
     "data": {
      "text/plain": [
       "array(['masculino', 'feminino'], dtype=object)"
      ]
     },
     "execution_count": 54,
     "metadata": {},
     "output_type": "execute_result"
    }
   ],
   "source": [
    "df['sexo'].unique()"
   ]
  },
  {
   "cell_type": "code",
   "execution_count": 55,
   "id": "872887e3-7871-4897-8187-194a07fe0bd1",
   "metadata": {},
   "outputs": [],
   "source": [
    "df_final['mulher'] = (df['sexo']=='feminino').astype(int)"
   ]
  },
  {
   "cell_type": "code",
   "execution_count": 56,
   "id": "31bc3353-54d4-41a2-a51f-3a4def00fa65",
   "metadata": {},
   "outputs": [
    {
     "data": {
      "text/plain": [
       "array([0, 1])"
      ]
     },
     "execution_count": 56,
     "metadata": {},
     "output_type": "execute_result"
    }
   ],
   "source": [
    "df_final['mulher'].unique()"
   ]
  },
  {
   "cell_type": "markdown",
   "id": "0a38b6b5-f600-47a5-ac5d-2b90d9cc9b6e",
   "metadata": {},
   "source": [
    "Sem ensino básico"
   ]
  },
  {
   "cell_type": "code",
   "execution_count": 57,
   "id": "9fd0a780-f7f1-44bd-944d-6878049c6000",
   "metadata": {},
   "outputs": [
    {
     "data": {
      "text/plain": [
       "array(['Analfabeto/Educação Infantil', 'Médio', 'Fundamental', 'Superior'],\n",
       "      dtype=object)"
      ]
     },
     "execution_count": 57,
     "metadata": {},
     "output_type": "execute_result"
    }
   ],
   "source": [
    "df['grau_instrucao'].unique()"
   ]
  },
  {
   "cell_type": "code",
   "execution_count": 58,
   "id": "b027df4f-896e-4cbd-9ca7-3b2de7368824",
   "metadata": {},
   "outputs": [],
   "source": [
    "df_final['sem_ensino_basico'] = (df['grau_instrucao']=='Analfabeto/Educação Infantil').astype(int)"
   ]
  },
  {
   "cell_type": "markdown",
   "id": "6e610142-b9c7-4aec-b7a5-c902ed443c82",
   "metadata": {},
   "source": [
    "Renda até 1sm"
   ]
  },
  {
   "cell_type": "code",
   "execution_count": 59,
   "id": "57b5d698-6184-490f-93a3-b0a73b647d65",
   "metadata": {},
   "outputs": [
    {
     "data": {
      "text/plain": [
       "array(['Até R$ 1.302,00', 'De R$ 1.302,01 até R$ 2.604,00',\n",
       "       'De R$ 2.604,01 até R$ 3.906,00', 'De R$ 3.906,01 até R$ 6.510,00',\n",
       "       'Não tem renda', 'Não respondeu',\n",
       "       'De R$ 6.510,01 até R$ 13.020,00', 'Não sabe',\n",
       "       'De R$ 13.020,01 até R$ 26.040,00',\n",
       "       'De R$ 26.040,01 até R$ 39.060,00', 'Mais de R$ 39.060,00'],\n",
       "      dtype=object)"
      ]
     },
     "execution_count": 59,
     "metadata": {},
     "output_type": "execute_result"
    }
   ],
   "source": [
    "df['renda_pessoal'].unique()"
   ]
  },
  {
   "cell_type": "code",
   "execution_count": 60,
   "id": "dfe0b0a6-57ca-466c-96ec-42558b856c10",
   "metadata": {},
   "outputs": [],
   "source": [
    "df_final['renda_até_1sm'] = (df['renda_pessoal'].isin(['Até R$ 1.302,00', 'Não tem renda'])).astype(int)"
   ]
  },
  {
   "cell_type": "code",
   "execution_count": 61,
   "id": "a7f8578c-9cc3-418c-a955-2ad17a5686a7",
   "metadata": {},
   "outputs": [
    {
     "data": {
      "text/html": [
       "<div>\n",
       "<style scoped>\n",
       "    .dataframe tbody tr th:only-of-type {\n",
       "        vertical-align: middle;\n",
       "    }\n",
       "\n",
       "    .dataframe tbody tr th {\n",
       "        vertical-align: top;\n",
       "    }\n",
       "\n",
       "    .dataframe thead th {\n",
       "        text-align: right;\n",
       "    }\n",
       "</style>\n",
       "<table border=\"1\" class=\"dataframe\">\n",
       "  <thead>\n",
       "    <tr style=\"text-align: right;\">\n",
       "      <th></th>\n",
       "      <th>usou_celular_para_internet</th>\n",
       "      <th>idoso</th>\n",
       "      <th>desempregado</th>\n",
       "      <th>negro</th>\n",
       "      <th>mulher</th>\n",
       "      <th>sem_ensino_basico</th>\n",
       "      <th>renda_até_1sm</th>\n",
       "    </tr>\n",
       "  </thead>\n",
       "  <tbody>\n",
       "    <tr>\n",
       "      <th>0</th>\n",
       "      <td>0</td>\n",
       "      <td>0</td>\n",
       "      <td>0</td>\n",
       "      <td>0</td>\n",
       "      <td>0</td>\n",
       "      <td>1</td>\n",
       "      <td>1</td>\n",
       "    </tr>\n",
       "    <tr>\n",
       "      <th>1</th>\n",
       "      <td>1</td>\n",
       "      <td>0</td>\n",
       "      <td>0</td>\n",
       "      <td>1</td>\n",
       "      <td>1</td>\n",
       "      <td>1</td>\n",
       "      <td>0</td>\n",
       "    </tr>\n",
       "    <tr>\n",
       "      <th>2</th>\n",
       "      <td>1</td>\n",
       "      <td>0</td>\n",
       "      <td>1</td>\n",
       "      <td>1</td>\n",
       "      <td>1</td>\n",
       "      <td>0</td>\n",
       "      <td>1</td>\n",
       "    </tr>\n",
       "    <tr>\n",
       "      <th>3</th>\n",
       "      <td>1</td>\n",
       "      <td>0</td>\n",
       "      <td>0</td>\n",
       "      <td>1</td>\n",
       "      <td>1</td>\n",
       "      <td>0</td>\n",
       "      <td>1</td>\n",
       "    </tr>\n",
       "    <tr>\n",
       "      <th>4</th>\n",
       "      <td>0</td>\n",
       "      <td>0</td>\n",
       "      <td>0</td>\n",
       "      <td>1</td>\n",
       "      <td>0</td>\n",
       "      <td>0</td>\n",
       "      <td>1</td>\n",
       "    </tr>\n",
       "    <tr>\n",
       "      <th>...</th>\n",
       "      <td>...</td>\n",
       "      <td>...</td>\n",
       "      <td>...</td>\n",
       "      <td>...</td>\n",
       "      <td>...</td>\n",
       "      <td>...</td>\n",
       "      <td>...</td>\n",
       "    </tr>\n",
       "    <tr>\n",
       "      <th>2590</th>\n",
       "      <td>0</td>\n",
       "      <td>0</td>\n",
       "      <td>1</td>\n",
       "      <td>1</td>\n",
       "      <td>1</td>\n",
       "      <td>0</td>\n",
       "      <td>0</td>\n",
       "    </tr>\n",
       "    <tr>\n",
       "      <th>2591</th>\n",
       "      <td>1</td>\n",
       "      <td>0</td>\n",
       "      <td>0</td>\n",
       "      <td>1</td>\n",
       "      <td>1</td>\n",
       "      <td>0</td>\n",
       "      <td>1</td>\n",
       "    </tr>\n",
       "    <tr>\n",
       "      <th>2592</th>\n",
       "      <td>1</td>\n",
       "      <td>0</td>\n",
       "      <td>0</td>\n",
       "      <td>1</td>\n",
       "      <td>0</td>\n",
       "      <td>0</td>\n",
       "      <td>0</td>\n",
       "    </tr>\n",
       "    <tr>\n",
       "      <th>2593</th>\n",
       "      <td>1</td>\n",
       "      <td>0</td>\n",
       "      <td>0</td>\n",
       "      <td>1</td>\n",
       "      <td>0</td>\n",
       "      <td>0</td>\n",
       "      <td>0</td>\n",
       "    </tr>\n",
       "    <tr>\n",
       "      <th>2594</th>\n",
       "      <td>1</td>\n",
       "      <td>0</td>\n",
       "      <td>0</td>\n",
       "      <td>0</td>\n",
       "      <td>0</td>\n",
       "      <td>0</td>\n",
       "      <td>0</td>\n",
       "    </tr>\n",
       "  </tbody>\n",
       "</table>\n",
       "<p>2595 rows × 7 columns</p>\n",
       "</div>"
      ],
      "text/plain": [
       "      usou_celular_para_internet  idoso  desempregado  negro  mulher  \\\n",
       "0                              0      0             0      0       0   \n",
       "1                              1      0             0      1       1   \n",
       "2                              1      0             1      1       1   \n",
       "3                              1      0             0      1       1   \n",
       "4                              0      0             0      1       0   \n",
       "...                          ...    ...           ...    ...     ...   \n",
       "2590                           0      0             1      1       1   \n",
       "2591                           1      0             0      1       1   \n",
       "2592                           1      0             0      1       0   \n",
       "2593                           1      0             0      1       0   \n",
       "2594                           1      0             0      0       0   \n",
       "\n",
       "      sem_ensino_basico  renda_até_1sm  \n",
       "0                     1              1  \n",
       "1                     1              0  \n",
       "2                     0              1  \n",
       "3                     0              1  \n",
       "4                     0              1  \n",
       "...                 ...            ...  \n",
       "2590                  0              0  \n",
       "2591                  0              1  \n",
       "2592                  0              0  \n",
       "2593                  0              0  \n",
       "2594                  0              0  \n",
       "\n",
       "[2595 rows x 7 columns]"
      ]
     },
     "execution_count": 61,
     "metadata": {},
     "output_type": "execute_result"
    }
   ],
   "source": [
    "df_final"
   ]
  },
  {
   "cell_type": "markdown",
   "id": "2afa260f-b9fc-401f-9320-5e656e43e843",
   "metadata": {},
   "source": [
    "### Modelagem\n",
    "\n",
    "Como nossa variável y é binária, desenvolveremos uma regressão logística.\n",
    "\n",
    "Nas células a seguir, treinamos o modelo e computamos sua acurácia."
   ]
  },
  {
   "cell_type": "code",
   "execution_count": 62,
   "id": "0457884b-300f-44a3-aa2d-1458196ef68f",
   "metadata": {},
   "outputs": [
    {
     "data": {
      "text/plain": [
       "array([0, 1])"
      ]
     },
     "execution_count": 62,
     "metadata": {},
     "output_type": "execute_result"
    }
   ],
   "source": [
    "df_final['usou_celular_para_internet'].unique()"
   ]
  },
  {
   "cell_type": "code",
   "execution_count": 63,
   "id": "03e49824-4fe8-4ca6-83a7-35076ba3ae84",
   "metadata": {},
   "outputs": [],
   "source": [
    "df_final['const'] = 1"
   ]
  },
  {
   "cell_type": "code",
   "execution_count": 64,
   "id": "68d5b954-dd7e-49a6-935c-8c69aa19eee2",
   "metadata": {},
   "outputs": [],
   "source": [
    "import statsmodels.api as sm"
   ]
  },
  {
   "cell_type": "code",
   "execution_count": 65,
   "id": "ca0afbed-7110-44f0-ae6a-cbabb76ab349",
   "metadata": {},
   "outputs": [],
   "source": [
    "y = df_final['usou_celular_para_internet']"
   ]
  },
  {
   "cell_type": "code",
   "execution_count": 66,
   "id": "f0af6c34-140d-4e0d-9905-166da926af7a",
   "metadata": {},
   "outputs": [],
   "source": [
    "x = df_final.drop('usou_celular_para_internet', axis=1)"
   ]
  },
  {
   "cell_type": "markdown",
   "id": "5ce2d973-d009-4652-be63-ee649b569e11",
   "metadata": {},
   "source": [
    "#### correlações\n",
    "\n",
    "Abaixo, verificamos que apesar de haver correlações entre as variáveis escolhidas para o modelo, ela não chega a ser tão alta."
   ]
  },
  {
   "cell_type": "code",
   "execution_count": 67,
   "id": "3fd0e4c1-04e9-49da-9b87-b2fa250db294",
   "metadata": {},
   "outputs": [
    {
     "data": {
      "text/plain": [
       "<Axes: >"
      ]
     },
     "execution_count": 67,
     "metadata": {},
     "output_type": "execute_result"
    },
    {
     "data": {
      "image/png": "[encoded data removed]",
      "text/plain": [
       "<Figure size 792x648 with 2 Axes>"
      ]
     },
     "metadata": {
      "needs_background": "light"
     },
     "output_type": "display_data"
    }
   ],
   "source": [
    "\n",
    "# Compute the correlation matrix\n",
    "corr = x.drop('const', axis=1).corr()\n",
    "\n",
    "# Generate a mask for the upper triangle\n",
    "mask = np.triu(np.ones_like(corr, dtype=bool))\n",
    "\n",
    "# Set up the matplotlib figure\n",
    "f, ax = plt.subplots(figsize=(11, 9))\n",
    "\n",
    "# Generate a custom diverging colormap\n",
    "cmap = sns.diverging_palette(230, 20, as_cmap=True)\n",
    "\n",
    "# Draw the heatmap with the mask and correct aspect ratio\n",
    "sns.heatmap(corr, mask=mask, cmap=cmap, center=0,\n",
    "            square=True, linewidths=.5, cbar_kws={\"shrink\": .5})"
   ]
  },
  {
   "cell_type": "code",
   "execution_count": 68,
   "id": "2401635a-f6ee-4935-8733-4125e10d24a2",
   "metadata": {},
   "outputs": [
    {
     "data": {
      "text/html": [
       "<div>\n",
       "<style scoped>\n",
       "    .dataframe tbody tr th:only-of-type {\n",
       "        vertical-align: middle;\n",
       "    }\n",
       "\n",
       "    .dataframe tbody tr th {\n",
       "        vertical-align: top;\n",
       "    }\n",
       "\n",
       "    .dataframe thead th {\n",
       "        text-align: right;\n",
       "    }\n",
       "</style>\n",
       "<table border=\"1\" class=\"dataframe\">\n",
       "  <thead>\n",
       "    <tr style=\"text-align: right;\">\n",
       "      <th></th>\n",
       "      <th>idoso</th>\n",
       "      <th>desempregado</th>\n",
       "      <th>negro</th>\n",
       "      <th>mulher</th>\n",
       "      <th>sem_ensino_basico</th>\n",
       "      <th>renda_até_1sm</th>\n",
       "    </tr>\n",
       "  </thead>\n",
       "  <tbody>\n",
       "    <tr>\n",
       "      <th>idoso</th>\n",
       "      <td>1.000000</td>\n",
       "      <td>-0.228584</td>\n",
       "      <td>-0.088048</td>\n",
       "      <td>0.017532</td>\n",
       "      <td>0.292575</td>\n",
       "      <td>0.092783</td>\n",
       "    </tr>\n",
       "    <tr>\n",
       "      <th>desempregado</th>\n",
       "      <td>-0.228584</td>\n",
       "      <td>1.000000</td>\n",
       "      <td>-0.004481</td>\n",
       "      <td>0.137808</td>\n",
       "      <td>-0.029171</td>\n",
       "      <td>0.130604</td>\n",
       "    </tr>\n",
       "    <tr>\n",
       "      <th>negro</th>\n",
       "      <td>-0.088048</td>\n",
       "      <td>-0.004481</td>\n",
       "      <td>1.000000</td>\n",
       "      <td>-0.005886</td>\n",
       "      <td>-0.019388</td>\n",
       "      <td>0.091775</td>\n",
       "    </tr>\n",
       "    <tr>\n",
       "      <th>mulher</th>\n",
       "      <td>0.017532</td>\n",
       "      <td>0.137808</td>\n",
       "      <td>-0.005886</td>\n",
       "      <td>1.000000</td>\n",
       "      <td>-0.023927</td>\n",
       "      <td>0.189446</td>\n",
       "    </tr>\n",
       "    <tr>\n",
       "      <th>sem_ensino_basico</th>\n",
       "      <td>0.292575</td>\n",
       "      <td>-0.029171</td>\n",
       "      <td>-0.019388</td>\n",
       "      <td>-0.023927</td>\n",
       "      <td>1.000000</td>\n",
       "      <td>0.153704</td>\n",
       "    </tr>\n",
       "    <tr>\n",
       "      <th>renda_até_1sm</th>\n",
       "      <td>0.092783</td>\n",
       "      <td>0.130604</td>\n",
       "      <td>0.091775</td>\n",
       "      <td>0.189446</td>\n",
       "      <td>0.153704</td>\n",
       "      <td>1.000000</td>\n",
       "    </tr>\n",
       "  </tbody>\n",
       "</table>\n",
       "</div>"
      ],
      "text/plain": [
       "                      idoso  desempregado     negro    mulher  \\\n",
       "idoso              1.000000     -0.228584 -0.088048  0.017532   \n",
       "desempregado      -0.228584      1.000000 -0.004481  0.137808   \n",
       "negro             -0.088048     -0.004481  1.000000 -0.005886   \n",
       "mulher             0.017532      0.137808 -0.005886  1.000000   \n",
       "sem_ensino_basico  0.292575     -0.029171 -0.019388 -0.023927   \n",
       "renda_até_1sm      0.092783      0.130604  0.091775  0.189446   \n",
       "\n",
       "                   sem_ensino_basico  renda_até_1sm  \n",
       "idoso                       0.292575       0.092783  \n",
       "desempregado               -0.029171       0.130604  \n",
       "negro                      -0.019388       0.091775  \n",
       "mulher                     -0.023927       0.189446  \n",
       "sem_ensino_basico           1.000000       0.153704  \n",
       "renda_até_1sm               0.153704       1.000000  "
      ]
     },
     "execution_count": 68,
     "metadata": {},
     "output_type": "execute_result"
    }
   ],
   "source": [
    "corr"
   ]
  },
  {
   "cell_type": "markdown",
   "id": "e91cfa1d-5701-4d66-b4c7-1d7d1d53413f",
   "metadata": {},
   "source": [
    "Treinamos o modelo abaixo"
   ]
  },
  {
   "cell_type": "code",
   "execution_count": 69,
   "id": "63b53131-7a4d-43ec-80b9-5870e17061ec",
   "metadata": {},
   "outputs": [
    {
     "name": "stdout",
     "output_type": "stream",
     "text": [
      "Optimization terminated successfully.\n",
      "         Current function value: 0.442129\n",
      "         Iterations 6\n"
     ]
    }
   ],
   "source": [
    "log_reg = sm.Logit(y, x).fit()"
   ]
  },
  {
   "cell_type": "markdown",
   "id": "e2a5c699-05c3-4d09-b356-07e2beb3a370",
   "metadata": {},
   "source": [
    "E inspecionamos os resultados."
   ]
  },
  {
   "cell_type": "code",
   "execution_count": 70,
   "id": "1dc4c798-9718-4576-a2f4-b6e348ce0a6f",
   "metadata": {},
   "outputs": [
    {
     "name": "stdout",
     "output_type": "stream",
     "text": [
      "                               Logit Regression Results                               \n",
      "======================================================================================\n",
      "Dep. Variable:     usou_celular_para_internet   No. Observations:                 2595\n",
      "Model:                                  Logit   Df Residuals:                     2588\n",
      "Method:                                   MLE   Df Model:                            6\n",
      "Date:                        Mon, 21 Aug 2023   Pseudo R-squ.:                  0.2634\n",
      "Time:                                18:59:34   Log-Likelihood:                -1147.3\n",
      "converged:                               True   LL-Null:                       -1557.6\n",
      "Covariance Type:                    nonrobust   LLR p-value:                5.671e-174\n",
      "=====================================================================================\n",
      "                        coef    std err          z      P>|z|      [0.025      0.975]\n",
      "-------------------------------------------------------------------------------------\n",
      "idoso                -2.3350      0.114    -20.557      0.000      -2.558      -2.112\n",
      "desempregado         -0.4074      0.190     -2.144      0.032      -0.780      -0.035\n",
      "negro                -0.1799      0.108     -1.670      0.095      -0.391       0.031\n",
      "mulher                0.5554      0.109      5.114      0.000       0.343       0.768\n",
      "sem_ensino_basico    -1.4433      0.166     -8.721      0.000      -1.768      -1.119\n",
      "renda_até_1sm        -0.7030      0.111     -6.337      0.000      -0.920      -0.486\n",
      "const                 2.3253      0.126     18.493      0.000       2.079       2.572\n",
      "=====================================================================================\n"
     ]
    }
   ],
   "source": [
    "print(log_reg.summary())"
   ]
  },
  {
   "cell_type": "markdown",
   "id": "dea50d86-8811-445d-ac09-500f40986642",
   "metadata": {},
   "source": [
    "### Acurácia do modelo\n",
    "\n",
    "A seguir, verificamos a acurácia do modelo na base de treino."
   ]
  },
  {
   "cell_type": "code",
   "execution_count": 71,
   "id": "f01f5f55-2b24-4406-bcd8-70c98341add4",
   "metadata": {},
   "outputs": [],
   "source": [
    "from sklearn.metrics import accuracy_score"
   ]
  },
  {
   "cell_type": "code",
   "execution_count": 72,
   "id": "dc0ebf54-e74f-45af-821a-76e8cabe594a",
   "metadata": {},
   "outputs": [],
   "source": [
    "pred = log_reg.predict(x)"
   ]
  },
  {
   "cell_type": "code",
   "execution_count": 73,
   "id": "c9648717-580a-4c78-863c-1831b49b86e7",
   "metadata": {},
   "outputs": [],
   "source": [
    "y_pred = (pred>0.5).astype(int)"
   ]
  },
  {
   "cell_type": "code",
   "execution_count": 74,
   "id": "8b4a5e40-f1de-4ede-9a70-8bbedae3fa30",
   "metadata": {},
   "outputs": [
    {
     "data": {
      "text/plain": [
       "0.7202312138728324"
      ]
     },
     "execution_count": 74,
     "metadata": {},
     "output_type": "execute_result"
    }
   ],
   "source": [
    "y_pred.mean()"
   ]
  },
  {
   "cell_type": "code",
   "execution_count": 75,
   "id": "79190dd1-3bc0-451f-a70a-9cd88be12c64",
   "metadata": {},
   "outputs": [
    {
     "data": {
      "text/plain": [
       "0.7121387283236994"
      ]
     },
     "execution_count": 75,
     "metadata": {},
     "output_type": "execute_result"
    }
   ],
   "source": [
    "y.mean()"
   ]
  },
  {
   "cell_type": "markdown",
   "id": "ef659c1b-059a-4370-8cad-afdca17691e2",
   "metadata": {},
   "source": [
    "Temos um score de 80% aproximadamente."
   ]
  },
  {
   "cell_type": "code",
   "execution_count": 76,
   "id": "c5e9348b-b77e-42e8-ac67-4044b126377d",
   "metadata": {},
   "outputs": [
    {
     "data": {
      "text/plain": [
       "0.7961464354527938"
      ]
     },
     "execution_count": 76,
     "metadata": {},
     "output_type": "execute_result"
    }
   ],
   "source": [
    "accuracy_score(y, y_pred)"
   ]
  },
  {
   "cell_type": "markdown",
   "id": "8bd40510-f0e2-4201-97b2-4b6df3d7c748",
   "metadata": {},
   "source": [
    "### Interpretação dos parâmetros\n",
    "\n",
    "Abaixo, exponenciamos os parâmetros da regressão logística para auxiliar na interpretação.\n",
    "\n",
    "Também implementamos uma regressão linear múltipla, que permite a comparação dos tamanhos de efeito das variáveis."
   ]
  },
  {
   "cell_type": "code",
   "execution_count": 77,
   "id": "47688ced-be7d-40c5-aa53-bc0a6c1749c0",
   "metadata": {},
   "outputs": [],
   "source": [
    "import math"
   ]
  },
  {
   "cell_type": "code",
   "execution_count": 78,
   "id": "5cbb9848-a289-435f-9559-32eaca02f854",
   "metadata": {},
   "outputs": [
    {
     "data": {
      "text/plain": [
       "idoso                 0.096811\n",
       "desempregado          0.665363\n",
       "negro                 0.835365\n",
       "mulher                1.742591\n",
       "sem_ensino_basico     0.236138\n",
       "renda_até_1sm         0.495091\n",
       "const                10.229591\n",
       "dtype: float64"
      ]
     },
     "execution_count": 78,
     "metadata": {},
     "output_type": "execute_result"
    }
   ],
   "source": [
    "log_reg.params.apply(math.exp)"
   ]
  },
  {
   "cell_type": "code",
   "execution_count": 79,
   "id": "030e36d7-a84f-4f0c-bddb-fb9d3f005e48",
   "metadata": {},
   "outputs": [],
   "source": [
    "lin_reg = sm.OLS(y, x).fit()"
   ]
  },
  {
   "cell_type": "code",
   "execution_count": 80,
   "id": "e819f433-58a5-4d8d-9ec8-31c3212a0872",
   "metadata": {},
   "outputs": [
    {
     "name": "stdout",
     "output_type": "stream",
     "text": [
      "                                OLS Regression Results                                \n",
      "======================================================================================\n",
      "Dep. Variable:     usou_celular_para_internet   R-squared:                       0.313\n",
      "Model:                                    OLS   Adj. R-squared:                  0.311\n",
      "Method:                         Least Squares   F-statistic:                     196.1\n",
      "Date:                        Mon, 21 Aug 2023   Prob (F-statistic):          2.08e-206\n",
      "Time:                                18:59:35   Log-Likelihood:                -1139.7\n",
      "No. Observations:                        2595   AIC:                             2293.\n",
      "Df Residuals:                            2588   BIC:                             2334.\n",
      "Df Model:                                   6                                         \n",
      "Covariance Type:                    nonrobust                                         \n",
      "=====================================================================================\n",
      "                        coef    std err          t      P>|t|      [0.025      0.975]\n",
      "-------------------------------------------------------------------------------------\n",
      "idoso                -0.4371      0.017    -25.557      0.000      -0.471      -0.404\n",
      "desempregado         -0.0471      0.026     -1.813      0.070      -0.098       0.004\n",
      "negro                -0.0256      0.015     -1.701      0.089      -0.055       0.004\n",
      "mulher                0.0802      0.015      5.285      0.000       0.050       0.110\n",
      "sem_ensino_basico    -0.2733      0.025    -10.763      0.000      -0.323      -0.223\n",
      "renda_até_1sm        -0.1011      0.016     -6.523      0.000      -0.132      -0.071\n",
      "const                 0.9151      0.016     57.617      0.000       0.884       0.946\n",
      "==============================================================================\n",
      "Omnibus:                      163.212   Durbin-Watson:                   1.956\n",
      "Prob(Omnibus):                  0.000   Jarque-Bera (JB):              193.496\n",
      "Skew:                          -0.654   Prob(JB):                     9.62e-43\n",
      "Kurtosis:                       3.282   Cond. No.                         5.47\n",
      "==============================================================================\n",
      "\n",
      "Notes:\n",
      "[1] Standard Errors assume that the covariance matrix of the errors is correctly specified.\n"
     ]
    }
   ],
   "source": [
    "print(lin_reg.summary())"
   ]
  },
  {
   "cell_type": "code",
   "execution_count": 81,
   "id": "5372fcf1-2f67-4e3a-86c1-64f0c4620a4b",
   "metadata": {},
   "outputs": [
    {
     "data": {
      "text/plain": [
       "idoso               -0.437140\n",
       "desempregado        -0.047127\n",
       "negro               -0.025644\n",
       "mulher               0.080197\n",
       "sem_ensino_basico   -0.273253\n",
       "renda_até_1sm       -0.101128\n",
       "const                0.915121\n",
       "dtype: float64"
      ]
     },
     "execution_count": 81,
     "metadata": {},
     "output_type": "execute_result"
    }
   ],
   "source": [
    "lin_reg.params"
   ]
  },
  {
   "cell_type": "code",
   "execution_count": 82,
   "id": "a908793a-1306-4cbe-babf-08a86bb6b526",
   "metadata": {},
   "outputs": [],
   "source": [
    "df_params = pd.DataFrame([log_reg.params.apply(math.exp), lin_reg.params]).T\n",
    "df_params.columns = ['Regressão Logística', 'Regressão Linear']"
   ]
  },
  {
   "cell_type": "code",
   "execution_count": 83,
   "id": "4cd9747b-dccc-4185-aa5c-414e6c5b18dd",
   "metadata": {},
   "outputs": [
    {
     "data": {
      "text/html": [
       "<div>\n",
       "<style scoped>\n",
       "    .dataframe tbody tr th:only-of-type {\n",
       "        vertical-align: middle;\n",
       "    }\n",
       "\n",
       "    .dataframe tbody tr th {\n",
       "        vertical-align: top;\n",
       "    }\n",
       "\n",
       "    .dataframe thead th {\n",
       "        text-align: right;\n",
       "    }\n",
       "</style>\n",
       "<table border=\"1\" class=\"dataframe\">\n",
       "  <thead>\n",
       "    <tr style=\"text-align: right;\">\n",
       "      <th></th>\n",
       "      <th>Regressão Logística</th>\n",
       "      <th>Regressão Linear</th>\n",
       "    </tr>\n",
       "  </thead>\n",
       "  <tbody>\n",
       "    <tr>\n",
       "      <th>idoso</th>\n",
       "      <td>0.096811</td>\n",
       "      <td>-0.437140</td>\n",
       "    </tr>\n",
       "    <tr>\n",
       "      <th>sem_ensino_basico</th>\n",
       "      <td>0.236138</td>\n",
       "      <td>-0.273253</td>\n",
       "    </tr>\n",
       "    <tr>\n",
       "      <th>renda_até_1sm</th>\n",
       "      <td>0.495091</td>\n",
       "      <td>-0.101128</td>\n",
       "    </tr>\n",
       "    <tr>\n",
       "      <th>desempregado</th>\n",
       "      <td>0.665363</td>\n",
       "      <td>-0.047127</td>\n",
       "    </tr>\n",
       "    <tr>\n",
       "      <th>negro</th>\n",
       "      <td>0.835365</td>\n",
       "      <td>-0.025644</td>\n",
       "    </tr>\n",
       "    <tr>\n",
       "      <th>mulher</th>\n",
       "      <td>1.742591</td>\n",
       "      <td>0.080197</td>\n",
       "    </tr>\n",
       "    <tr>\n",
       "      <th>const</th>\n",
       "      <td>10.229591</td>\n",
       "      <td>0.915121</td>\n",
       "    </tr>\n",
       "  </tbody>\n",
       "</table>\n",
       "</div>"
      ],
      "text/plain": [
       "                   Regressão Logística  Regressão Linear\n",
       "idoso                         0.096811         -0.437140\n",
       "sem_ensino_basico             0.236138         -0.273253\n",
       "renda_até_1sm                 0.495091         -0.101128\n",
       "desempregado                  0.665363         -0.047127\n",
       "negro                         0.835365         -0.025644\n",
       "mulher                        1.742591          0.080197\n",
       "const                        10.229591          0.915121"
      ]
     },
     "execution_count": 83,
     "metadata": {},
     "output_type": "execute_result"
    }
   ],
   "source": [
    "df_params.sort_values(by='Regressão Linear')"
   ]
  },
  {
   "cell_type": "code",
   "execution_count": null,
   "id": "0ba44aea-f43b-4514-a68c-8e3f24deffda",
   "metadata": {},
   "outputs": [],
   "source": []
  }
 ],
 "metadata": {
  "kernelspec": {
   "display_name": "Python 3",
   "language": "python",
   "name": "python3"
  },
  "language_info": {
   "codemirror_mode": {
    "name": "ipython",
    "version": 3
   },
   "file_extension": ".py",
   "mimetype": "text/x-python",
   "name": "python",
   "nbconvert_exporter": "python",
   "pygments_lexer": "ipython3",
   "version": "3.8.8"
  }
 },
 "nbformat": 4,
 "nbformat_minor": 5
}
