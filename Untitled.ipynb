{
 "cells": [
  {
   "cell_type": "code",
   "execution_count": 1,
   "id": "46ee7aca-3b51-4792-b224-780fd02fcb41",
   "metadata": {},
   "outputs": [],
   "source": [
    "import pandas as pd\n",
    "import requests\n",
    "import os"
   ]
  },
  {
   "cell_type": "code",
   "execution_count": 2,
   "id": "74d49b5b-6eb6-4444-aa4b-81bc1bd7426d",
   "metadata": {},
   "outputs": [],
   "source": [
    "URL_MICRODADOS = 'https://cetic.br/media/microdados/694/tic_domicilios_2022_individuos_base_de_microdados_v1.0.csv'\n",
    "FOLDER_DADOS = 'data'\n",
    "\n",
    "def download_dados(fname:str, url:str=URL_MICRODADOS, folder:str=FOLDER_DADOS)->str:\n",
    "    \n",
    "    fpath = os.path.join(folder, fname)\n",
    "    \n",
    "    if os.path.exists(fpath):\n",
    "        return fpath\n",
    "    \n",
    "    #cria folder se nao existir\n",
    "    if not os.path.exists(folder):\n",
    "        os.mkdir(folder)\n",
    "        \n",
    "    with requests.get(url) as r:\n",
    "        data = r.text\n",
    "        \n",
    "    with open(fpath, 'w') as f:\n",
    "        f.write(data)\n",
    "    \n",
    "    return fpath"
   ]
  },
  {
   "cell_type": "code",
   "execution_count": 3,
   "id": "91d68acb-edac-49bf-8a72-9779a0c220b2",
   "metadata": {},
   "outputs": [],
   "source": [
    "fname = download_dados('microdados_ticbr_individuos.csv')"
   ]
  },
  {
   "cell_type": "code",
   "execution_count": 4,
   "id": "814c4aca-d9d7-4d1d-86cd-f25512c0516b",
   "metadata": {},
   "outputs": [
    {
     "data": {
      "text/plain": [
       "'data\\\\microdados_ticbr_individuos.csv'"
      ]
     },
     "execution_count": 4,
     "metadata": {},
     "output_type": "execute_result"
    }
   ],
   "source": [
    "fname"
   ]
  },
  {
   "cell_type": "code",
   "execution_count": 5,
   "id": "4150b671-cce9-4af3-b81e-d079632ac8b2",
   "metadata": {},
   "outputs": [],
   "source": [
    "df = pd.read_csv(fname, sep=';')"
   ]
  },
  {
   "cell_type": "code",
   "execution_count": 6,
   "id": "80b4a68f-e742-4406-aded-c664936078dc",
   "metadata": {},
   "outputs": [
    {
     "data": {
      "text/html": [
       "<div>\n",
       "<style scoped>\n",
       "    .dataframe tbody tr th:only-of-type {\n",
       "        vertical-align: middle;\n",
       "    }\n",
       "\n",
       "    .dataframe tbody tr th {\n",
       "        vertical-align: top;\n",
       "    }\n",
       "\n",
       "    .dataframe thead th {\n",
       "        text-align: right;\n",
       "    }\n",
       "</style>\n",
       "<table border=\"1\" class=\"dataframe\">\n",
       "  <thead>\n",
       "    <tr style=\"text-align: right;\">\n",
       "      <th></th>\n",
       "      <th>QUEST</th>\n",
       "      <th>ID_DOMICILIO</th>\n",
       "      <th>ID_MORADOR</th>\n",
       "      <th>SEXO</th>\n",
       "      <th>IDADE</th>\n",
       "      <th>FAIXA_ETARIA</th>\n",
       "      <th>GRAU_INSTRUCAO</th>\n",
       "      <th>PEA</th>\n",
       "      <th>RENDA_PESSOAL</th>\n",
       "      <th>RACA</th>\n",
       "      <th>...</th>\n",
       "      <th>rep191</th>\n",
       "      <th>rep192</th>\n",
       "      <th>rep193</th>\n",
       "      <th>rep194</th>\n",
       "      <th>rep195</th>\n",
       "      <th>rep196</th>\n",
       "      <th>rep197</th>\n",
       "      <th>rep198</th>\n",
       "      <th>rep199</th>\n",
       "      <th>rep200</th>\n",
       "    </tr>\n",
       "  </thead>\n",
       "  <tbody>\n",
       "    <tr>\n",
       "      <th>0</th>\n",
       "      <td>168775373</td>\n",
       "      <td>5072</td>\n",
       "      <td>2</td>\n",
       "      <td>2</td>\n",
       "      <td>24</td>\n",
       "      <td>2</td>\n",
       "      <td>10</td>\n",
       "      <td>1</td>\n",
       "      <td>1</td>\n",
       "      <td>1</td>\n",
       "      <td>...</td>\n",
       "      <td>2</td>\n",
       "      <td>1</td>\n",
       "      <td>1</td>\n",
       "      <td>1</td>\n",
       "      <td>1</td>\n",
       "      <td>1</td>\n",
       "      <td>0</td>\n",
       "      <td>0</td>\n",
       "      <td>2</td>\n",
       "      <td>2</td>\n",
       "    </tr>\n",
       "    <tr>\n",
       "      <th>1</th>\n",
       "      <td>168775374</td>\n",
       "      <td>5073</td>\n",
       "      <td>1</td>\n",
       "      <td>2</td>\n",
       "      <td>58</td>\n",
       "      <td>5</td>\n",
       "      <td>9</td>\n",
       "      <td>5</td>\n",
       "      <td>9</td>\n",
       "      <td>3</td>\n",
       "      <td>...</td>\n",
       "      <td>2</td>\n",
       "      <td>1</td>\n",
       "      <td>1</td>\n",
       "      <td>1</td>\n",
       "      <td>1</td>\n",
       "      <td>1</td>\n",
       "      <td>0</td>\n",
       "      <td>0</td>\n",
       "      <td>2</td>\n",
       "      <td>2</td>\n",
       "    </tr>\n",
       "    <tr>\n",
       "      <th>2</th>\n",
       "      <td>168775378</td>\n",
       "      <td>5077</td>\n",
       "      <td>2</td>\n",
       "      <td>2</td>\n",
       "      <td>64</td>\n",
       "      <td>6</td>\n",
       "      <td>10</td>\n",
       "      <td>5</td>\n",
       "      <td>1</td>\n",
       "      <td>3</td>\n",
       "      <td>...</td>\n",
       "      <td>2</td>\n",
       "      <td>1</td>\n",
       "      <td>1</td>\n",
       "      <td>1</td>\n",
       "      <td>1</td>\n",
       "      <td>1</td>\n",
       "      <td>0</td>\n",
       "      <td>0</td>\n",
       "      <td>2</td>\n",
       "      <td>2</td>\n",
       "    </tr>\n",
       "    <tr>\n",
       "      <th>3</th>\n",
       "      <td>168775379</td>\n",
       "      <td>5079</td>\n",
       "      <td>1</td>\n",
       "      <td>1</td>\n",
       "      <td>48</td>\n",
       "      <td>5</td>\n",
       "      <td>6</td>\n",
       "      <td>1</td>\n",
       "      <td>1</td>\n",
       "      <td>3</td>\n",
       "      <td>...</td>\n",
       "      <td>2</td>\n",
       "      <td>1</td>\n",
       "      <td>1</td>\n",
       "      <td>1</td>\n",
       "      <td>1</td>\n",
       "      <td>1</td>\n",
       "      <td>0</td>\n",
       "      <td>0</td>\n",
       "      <td>2</td>\n",
       "      <td>2</td>\n",
       "    </tr>\n",
       "    <tr>\n",
       "      <th>4</th>\n",
       "      <td>168775380</td>\n",
       "      <td>5080</td>\n",
       "      <td>5</td>\n",
       "      <td>2</td>\n",
       "      <td>55</td>\n",
       "      <td>5</td>\n",
       "      <td>1</td>\n",
       "      <td>1</td>\n",
       "      <td>1</td>\n",
       "      <td>2</td>\n",
       "      <td>...</td>\n",
       "      <td>2</td>\n",
       "      <td>1</td>\n",
       "      <td>1</td>\n",
       "      <td>1</td>\n",
       "      <td>1</td>\n",
       "      <td>1</td>\n",
       "      <td>0</td>\n",
       "      <td>0</td>\n",
       "      <td>2</td>\n",
       "      <td>2</td>\n",
       "    </tr>\n",
       "  </tbody>\n",
       "</table>\n",
       "<p>5 rows × 438 columns</p>\n",
       "</div>"
      ],
      "text/plain": [
       "       QUEST  ID_DOMICILIO  ID_MORADOR  SEXO  IDADE  FAIXA_ETARIA  \\\n",
       "0  168775373          5072           2     2     24             2   \n",
       "1  168775374          5073           1     2     58             5   \n",
       "2  168775378          5077           2     2     64             6   \n",
       "3  168775379          5079           1     1     48             5   \n",
       "4  168775380          5080           5     2     55             5   \n",
       "\n",
       "   GRAU_INSTRUCAO  PEA  RENDA_PESSOAL  RACA  ...  rep191  rep192  rep193  \\\n",
       "0              10    1              1     1  ...       2       1       1   \n",
       "1               9    5              9     3  ...       2       1       1   \n",
       "2              10    5              1     3  ...       2       1       1   \n",
       "3               6    1              1     3  ...       2       1       1   \n",
       "4               1    1              1     2  ...       2       1       1   \n",
       "\n",
       "   rep194  rep195  rep196  rep197  rep198  rep199  rep200  \n",
       "0       1       1       1       0       0       2       2  \n",
       "1       1       1       1       0       0       2       2  \n",
       "2       1       1       1       0       0       2       2  \n",
       "3       1       1       1       0       0       2       2  \n",
       "4       1       1       1       0       0       2       2  \n",
       "\n",
       "[5 rows x 438 columns]"
      ]
     },
     "execution_count": 6,
     "metadata": {},
     "output_type": "execute_result"
    }
   ],
   "source": [
    "df.head()"
   ]
  },
  {
   "cell_type": "markdown",
   "id": "d8468d71-11b8-46cb-b56a-126a032f6468",
   "metadata": {},
   "source": [
    "Filtrar para a região sudeste (infelizmente não tem amostragem a nível de município)"
   ]
  },
  {
   "cell_type": "code",
   "execution_count": 7,
   "id": "63e4de0c-4a6a-4fd5-87eb-f43f0bf0c881",
   "metadata": {},
   "outputs": [],
   "source": [
    "regiao_sudeste = 1\n",
    "\n",
    "filtro_regiao_sudeste = df['COD_REGIAO_2']==regiao_sudeste\n",
    "\n",
    "df = df[filtro_regiao_sudeste].reset_index(drop=True)"
   ]
  },
  {
   "cell_type": "code",
   "execution_count": 8,
   "id": "13e710d2-aa91-4f82-a478-9550672f6876",
   "metadata": {},
   "outputs": [
    {
     "data": {
      "text/plain": [
       "2705"
      ]
     },
     "execution_count": 8,
     "metadata": {},
     "output_type": "execute_result"
    }
   ],
   "source": [
    "len(df)"
   ]
  },
  {
   "cell_type": "markdown",
   "id": "a1c4fdb9-3129-43a9-aa90-178b1071c590",
   "metadata": {},
   "source": [
    "Respostas J3 - usou celular para internet"
   ]
  },
  {
   "cell_type": "code",
   "execution_count": 9,
   "id": "aa2ff997-02b9-4c54-87fb-9812822dbaa2",
   "metadata": {},
   "outputs": [],
   "source": [
    "mapper_respostas = {\n",
    "    0:\"Não\",\n",
    "    1:\"Sim\",\n",
    "    97:\"Não sabe\",\n",
    "    98:\"Não respondeu\",\n",
    "    99:\"Não se aplica\"\n",
    "}"
   ]
  },
  {
   "cell_type": "code",
   "execution_count": 10,
   "id": "58fcc6ab-8cec-4548-90b3-c0011d45c680",
   "metadata": {},
   "outputs": [],
   "source": [
    "usou_celular_para_internet = 'J3'\n"
   ]
  },
  {
   "cell_type": "code",
   "execution_count": 11,
   "id": "c12e213c-3010-4d15-88ba-ed57c31d132f",
   "metadata": {},
   "outputs": [],
   "source": [
    "df['usou_celular_para_internet'] = df['J3'].map(mapper_respostas)"
   ]
  },
  {
   "cell_type": "code",
   "execution_count": 12,
   "id": "ca0a93c2-ad0d-4eeb-af7b-476fb8633a6a",
   "metadata": {},
   "outputs": [
    {
     "data": {
      "text/plain": [
       "Sim              0.720518\n",
       "Não se aplica    0.141220\n",
       "Não              0.137153\n",
       "Não sabe         0.001109\n",
       "Name: usou_celular_para_internet, dtype: float64"
      ]
     },
     "execution_count": 12,
     "metadata": {},
     "output_type": "execute_result"
    }
   ],
   "source": [
    "df['usou_celular_para_internet'].value_counts(normalize=True)"
   ]
  },
  {
   "cell_type": "markdown",
   "id": "70c25c5e-0b0d-4939-bd74-956bb343e55d",
   "metadata": {},
   "source": [
    "Respostas J1 - usou celular"
   ]
  },
  {
   "cell_type": "code",
   "execution_count": 13,
   "id": "1329c56b-a087-4de4-9274-1a7561c9b5d9",
   "metadata": {},
   "outputs": [],
   "source": [
    "df['usou_celular_3_meses'] = df['J1'].map(mapper_respostas)"
   ]
  },
  {
   "cell_type": "markdown",
   "id": "9f73d61e-3c71-48b4-8e5f-aba431022bb5",
   "metadata": {},
   "source": [
    "Não se aplica está consistente"
   ]
  },
  {
   "cell_type": "code",
   "execution_count": 14,
   "id": "f3da78e5-c004-4a70-8a0f-066e478fab37",
   "metadata": {},
   "outputs": [
    {
     "data": {
      "text/plain": [
       "array(['Não'], dtype=object)"
      ]
     },
     "execution_count": 14,
     "metadata": {},
     "output_type": "execute_result"
    }
   ],
   "source": [
    "df[df['usou_celular_para_internet']=='Não se aplica']['usou_celular_3_meses'].unique()"
   ]
  },
  {
   "cell_type": "code",
   "execution_count": 15,
   "id": "bb405128-f121-4ad9-b3c5-1c17fb20014b",
   "metadata": {},
   "outputs": [],
   "source": [
    "df['usou_celular_para_internet'] = df['usou_celular_para_internet'].apply(lambda x: 'Não tem acesso a celular' if x=='Não se aplica' else x)"
   ]
  },
  {
   "cell_type": "code",
   "execution_count": 16,
   "id": "06e5306c-f68b-40c2-a905-58031f3b9adc",
   "metadata": {},
   "outputs": [
    {
     "data": {
      "text/plain": [
       "Sim                         0.720518\n",
       "Não tem acesso a celular    0.141220\n",
       "Não                         0.137153\n",
       "Não sabe                    0.001109\n",
       "Name: usou_celular_para_internet, dtype: float64"
      ]
     },
     "execution_count": 16,
     "metadata": {},
     "output_type": "execute_result"
    }
   ],
   "source": [
    "df['usou_celular_para_internet'].value_counts(normalize=True)"
   ]
  },
  {
   "cell_type": "markdown",
   "id": "1043fcb2-59fa-4d41-9883-3580a38f6565",
   "metadata": {},
   "source": [
    "Todos os que responderam que não usaram celular para internet, usaram algum celular (ou seja tem acesso) nos últimos 3 meses"
   ]
  },
  {
   "cell_type": "code",
   "execution_count": 17,
   "id": "4021ee86-7f8d-4133-8a82-9dd5e129f813",
   "metadata": {},
   "outputs": [
    {
     "data": {
      "text/plain": [
       "array(['Sim'], dtype=object)"
      ]
     },
     "execution_count": 17,
     "metadata": {},
     "output_type": "execute_result"
    }
   ],
   "source": [
    "df[df['usou_celular_para_internet']=='Não']['usou_celular_3_meses'].unique()"
   ]
  },
  {
   "cell_type": "code",
   "execution_count": 18,
   "id": "863a5a3d-f3ee-44a5-ae96-de6743644a39",
   "metadata": {},
   "outputs": [
    {
     "data": {
      "text/plain": [
       "array(['Sim'], dtype=object)"
      ]
     },
     "execution_count": 18,
     "metadata": {},
     "output_type": "execute_result"
    }
   ],
   "source": [
    "df[df['usou_celular_para_internet']=='Não sabe']['usou_celular_3_meses'].unique()"
   ]
  },
  {
   "cell_type": "code",
   "execution_count": 19,
   "id": "789457b5-e8bf-45c2-b1e9-6524691b1a18",
   "metadata": {},
   "outputs": [
    {
     "data": {
      "text/plain": [
       "<AxesSubplot: >"
      ]
     },
     "execution_count": 19,
     "metadata": {},
     "output_type": "execute_result"
    },
    {
     "data": {
      "image/png": "[encoded data removed]",
      "text/plain": [
       "<Figure size 640x480 with 1 Axes>"
      ]
     },
     "metadata": {},
     "output_type": "display_data"
    }
   ],
   "source": [
    "df['usou_celular_para_internet'].value_counts(normalize=True).plot.barh()"
   ]
  },
  {
   "cell_type": "markdown",
   "id": "9aa819b7-471d-4855-a03c-b86405e32d74",
   "metadata": {},
   "source": [
    "Vamos agrupar por renda"
   ]
  },
  {
   "cell_type": "code",
   "execution_count": 20,
   "id": "0856a1c6-59da-4b85-b937-a5235a4688aa",
   "metadata": {},
   "outputs": [],
   "source": [
    "mapper_renda = {\n",
    "    1:\"Até R$ 1.302,00\",\n",
    "    2:\"De R$ 1.302,01 até R$ 2.604,00\",\n",
    "    3:\"De R$ 2.604,01 até R$ 3.906,00\",\n",
    "    4:\"De R$ 3.906,01 até R$ 6.510,00\",\n",
    "    5:\"De R$ 6.510,01 até R$ 13.020,00\",\n",
    "    6:\"De R$ 13.020,01 até R$ 26.040,00\",\n",
    "    7:\"De R$ 26.040,01 até R$ 39.060,00\",\n",
    "    8:\"Mais de R$ 39.060,00\",\n",
    "    9:\"Não tem renda\",\n",
    "    97:\"Não sabe\",\n",
    "    98:\"Não respondeu\",\n",
    "}"
   ]
  },
  {
   "cell_type": "code",
   "execution_count": 21,
   "id": "d24633e0-7946-48ae-9147-fbbe09bca323",
   "metadata": {},
   "outputs": [],
   "source": [
    "df['renda_pessoal']  = df['RENDA_PESSOAL'].apply(lambda x: mapper_renda[x])"
   ]
  },
  {
   "cell_type": "markdown",
   "id": "775ae910-a4d4-4fa3-81c6-c39259472fce",
   "metadata": {},
   "source": [
    "E por raca"
   ]
  },
  {
   "cell_type": "code",
   "execution_count": 22,
   "id": "7beba14a-ab60-42be-b6e6-b3d60daae2c0",
   "metadata": {},
   "outputs": [
    {
     "data": {
      "text/plain": [
       "array([ 1,  3,  2,  4,  5, 98], dtype=int64)"
      ]
     },
     "execution_count": 22,
     "metadata": {},
     "output_type": "execute_result"
    }
   ],
   "source": [
    "df['RACA'].unique()"
   ]
  },
  {
   "cell_type": "code",
   "execution_count": 23,
   "id": "b60c22cb-eaac-4a0c-953a-63dc3d4977d8",
   "metadata": {},
   "outputs": [],
   "source": [
    "mapper_raca = {1:\"Branca\",\n",
    "2:\"Preta\",\n",
    "3:\"Parda\",\n",
    "4:\"Amarela\",\n",
    "5:\"Indígena\",\n",
    "98:\"Não respondesu\"}"
   ]
  },
  {
   "cell_type": "code",
   "execution_count": 24,
   "id": "1e9c471b-5128-4872-a356-a12884a760e5",
   "metadata": {},
   "outputs": [],
   "source": [
    "df['raca'] = df['RACA'].map(mapper_raca)"
   ]
  },
  {
   "cell_type": "markdown",
   "id": "2b396ba4-539e-4ecf-813d-5b486cbcc161",
   "metadata": {},
   "source": [
    "E por grau de instrucao"
   ]
  },
  {
   "cell_type": "code",
   "execution_count": 25,
   "id": "b5169008-b0cc-4c9b-8c3e-548cf70af463",
   "metadata": {},
   "outputs": [],
   "source": [
    "mapper_instrucao = {\n",
    "1:\"Analfabeto/Educação Infantil\",\n",
    "2:\"Fundamental\",\n",
    "3:\"Médio\",\n",
    "4:\"Superior\",\n",
    "}"
   ]
  },
  {
   "cell_type": "code",
   "execution_count": 26,
   "id": "53767fe9-e520-423a-95b8-4f4240cf9b73",
   "metadata": {},
   "outputs": [],
   "source": [
    "df['grau_instrucao'] = df['GRAU_INSTRUCAO_2'].map(mapper_instrucao)"
   ]
  },
  {
   "cell_type": "markdown",
   "id": "b2e02e8d-72ae-4044-bcec-ce7f4fab0af6",
   "metadata": {},
   "source": [
    "E por condição de atividade (empregado ou nao)"
   ]
  },
  {
   "cell_type": "code",
   "execution_count": 27,
   "id": "9a7200aa-72a6-440a-9e1b-f3a6605140ce",
   "metadata": {},
   "outputs": [],
   "source": [
    "mapper_atividade = {\n",
    "1:\"Na força de trabalho\",\n",
    "2:\"Fora da força de trabalho\",\n",
    "}"
   ]
  },
  {
   "cell_type": "code",
   "execution_count": 28,
   "id": "ef446ca3-da26-43af-b0d1-03160aef56d4",
   "metadata": {},
   "outputs": [],
   "source": [
    "df['condicao_atividade'] = df['PEA_2'].map(mapper_atividade)"
   ]
  },
  {
   "cell_type": "markdown",
   "id": "c32255a5-82f8-4c3f-a46a-f827b991d283",
   "metadata": {},
   "source": [
    "E por faixa etária"
   ]
  },
  {
   "cell_type": "code",
   "execution_count": 29,
   "id": "63a22705-2beb-490e-a0de-011a01dc2632",
   "metadata": {},
   "outputs": [],
   "source": [
    "mapper_faixa_etaria = {1:\"De 10 a 15 anos\",\n",
    "                    2:\"De 16 a 24 anos\",\n",
    "                    3:\"De 25 a 34 anos\",\n",
    "                    4:\"De 35 a 44 anos\",\n",
    "                    5:\"De 45 a 59 anos\",\n",
    "                    6:\"De 60 anos ou mais\"}"
   ]
  },
  {
   "cell_type": "code",
   "execution_count": 30,
   "id": "eec83f41-01fc-4623-b81f-ee368b876310",
   "metadata": {},
   "outputs": [],
   "source": [
    "df['faixa_etaria'] = df['FAIXA_ETARIA'].map(mapper_faixa_etaria)"
   ]
  },
  {
   "cell_type": "markdown",
   "id": "ac2364c2-a5f6-42e4-bff3-4ee3562ed654",
   "metadata": {},
   "source": [
    "E por sexo"
   ]
  },
  {
   "cell_type": "code",
   "execution_count": 31,
   "id": "8bbecbb5-ab0d-47b3-bbe0-e0fe24d11c6e",
   "metadata": {},
   "outputs": [],
   "source": [
    "mapper_sexo = {1: 'masculino', 2 : 'feminino'}\n",
    "\n",
    "df['sexo'] = df['SEXO'].map(mapper_sexo)"
   ]
  },
  {
   "cell_type": "markdown",
   "id": "8a5b68a6-880b-4a66-b46f-7eb6b05d8348",
   "metadata": {},
   "source": [
    "Criando coluna de contagem"
   ]
  },
  {
   "cell_type": "code",
   "execution_count": 32,
   "id": "bce13e78-c810-4863-a1f8-63786fd2cdd5",
   "metadata": {},
   "outputs": [
    {
     "data": {
      "text/plain": [
       "True"
      ]
     },
     "execution_count": 32,
     "metadata": {},
     "output_type": "execute_result"
    }
   ],
   "source": [
    "(df['ID_DOMICILIO'].astype(str) + '.' + df['ID_MORADOR'].astype(str)).duplicated().any()==False"
   ]
  },
  {
   "cell_type": "code",
   "execution_count": 33,
   "id": "35b5134d-9d10-45cd-98a6-b96fa2d6869c",
   "metadata": {},
   "outputs": [
    {
     "data": {
      "text/plain": [
       "True"
      ]
     },
     "execution_count": 33,
     "metadata": {},
     "output_type": "execute_result"
    }
   ],
   "source": [
    "(df['ID_DOMICILIO'].astype(str) + '.' + df['ID_MORADOR'].astype(str)).nunique()==len(df)"
   ]
  },
  {
   "cell_type": "code",
   "execution_count": 34,
   "id": "0a4bd288-1c8e-40c6-b566-752bb9685ebc",
   "metadata": {},
   "outputs": [],
   "source": [
    "df['count']=1"
   ]
  },
  {
   "cell_type": "code",
   "execution_count": 35,
   "id": "ded3455e-54a7-42e1-8105-eb3cc596e796",
   "metadata": {},
   "outputs": [],
   "source": [
    "colunas_agrupar = [\n",
    "    'sexo',\n",
    "    'raca', \n",
    "    'faixa_etaria',\n",
    "    'grau_instrucao',\n",
    "    'renda_pessoal', \n",
    "    'condicao_atividade',  \n",
    "    'usou_celular_para_internet'\n",
    "    \n",
    "]"
   ]
  },
  {
   "cell_type": "code",
   "execution_count": 36,
   "id": "dffd1bcb-8fe8-4f9b-91a5-1b0028b1ea46",
   "metadata": {},
   "outputs": [],
   "source": [
    "df_agrupado = df.groupby(colunas_agrupar).sum(numeric_only=True)[['count']].reset_index()"
   ]
  },
  {
   "cell_type": "code",
   "execution_count": 37,
   "id": "009d8056-dfe6-46a7-b317-b5f13d1ea808",
   "metadata": {},
   "outputs": [],
   "source": [
    "df_agrupado['usou_celular_para_internet'] = df_agrupado['usou_celular_para_internet'].apply(lambda x: 1 if 'Sim' else 0)"
   ]
  },
  {
   "cell_type": "code",
   "execution_count": 38,
   "id": "0863b27e-f3b3-4db5-bb79-5b58af0a83a9",
   "metadata": {},
   "outputs": [],
   "source": [
    "dados = []\n",
    "\n",
    "for i, row in df_agrupado.iterrows():\n",
    "    \n",
    "    qtd = row['count']\n",
    "    for j in range(qtd):\n",
    "        dados.append(row)"
   ]
  },
  {
   "cell_type": "code",
   "execution_count": 39,
   "id": "2b107ea7-e959-4f4e-a80c-7c7c56bf6dd9",
   "metadata": {},
   "outputs": [],
   "source": [
    "df_final = pd.DataFrame(dados)"
   ]
  },
  {
   "cell_type": "code",
   "execution_count": 40,
   "id": "079b3489-190d-4102-8a3b-8b5a5ace9628",
   "metadata": {},
   "outputs": [],
   "source": [
    "df_final.drop('count', axis=1, inplace=True)"
   ]
  },
  {
   "cell_type": "code",
   "execution_count": 41,
   "id": "0907531c-59f5-461d-bd8a-0d12abba64e3",
   "metadata": {},
   "outputs": [],
   "source": [
    "df_dummies = pd.get_dummies(df_final, drop_first=True)"
   ]
  },
  {
   "cell_type": "code",
   "execution_count": 42,
   "id": "2309222d-466f-4c3a-866e-1ef5ab674767",
   "metadata": {},
   "outputs": [
    {
     "data": {
      "text/html": [
       "<div>\n",
       "<style scoped>\n",
       "    .dataframe tbody tr th:only-of-type {\n",
       "        vertical-align: middle;\n",
       "    }\n",
       "\n",
       "    .dataframe tbody tr th {\n",
       "        vertical-align: top;\n",
       "    }\n",
       "\n",
       "    .dataframe thead th {\n",
       "        text-align: right;\n",
       "    }\n",
       "</style>\n",
       "<table border=\"1\" class=\"dataframe\">\n",
       "  <thead>\n",
       "    <tr style=\"text-align: right;\">\n",
       "      <th></th>\n",
       "      <th>usou_celular_para_internet</th>\n",
       "      <th>sexo_masculino</th>\n",
       "      <th>raca_Branca</th>\n",
       "      <th>raca_Indígena</th>\n",
       "      <th>raca_Não respondesu</th>\n",
       "      <th>raca_Parda</th>\n",
       "      <th>raca_Preta</th>\n",
       "      <th>faixa_etaria_De 16 a 24 anos</th>\n",
       "      <th>faixa_etaria_De 25 a 34 anos</th>\n",
       "      <th>faixa_etaria_De 35 a 44 anos</th>\n",
       "      <th>...</th>\n",
       "      <th>renda_pessoal_De R$ 13.020,01 até R$ 26.040,00</th>\n",
       "      <th>renda_pessoal_De R$ 2.604,01 até R$ 3.906,00</th>\n",
       "      <th>renda_pessoal_De R$ 26.040,01 até R$ 39.060,00</th>\n",
       "      <th>renda_pessoal_De R$ 3.906,01 até R$ 6.510,00</th>\n",
       "      <th>renda_pessoal_De R$ 6.510,01 até R$ 13.020,00</th>\n",
       "      <th>renda_pessoal_Mais de R$ 39.060,00</th>\n",
       "      <th>renda_pessoal_Não respondeu</th>\n",
       "      <th>renda_pessoal_Não sabe</th>\n",
       "      <th>renda_pessoal_Não tem renda</th>\n",
       "      <th>condicao_atividade_Na força de trabalho</th>\n",
       "    </tr>\n",
       "  </thead>\n",
       "  <tbody>\n",
       "    <tr>\n",
       "      <th>0</th>\n",
       "      <td>1</td>\n",
       "      <td>0</td>\n",
       "      <td>0</td>\n",
       "      <td>0</td>\n",
       "      <td>0</td>\n",
       "      <td>0</td>\n",
       "      <td>0</td>\n",
       "      <td>0</td>\n",
       "      <td>0</td>\n",
       "      <td>0</td>\n",
       "      <td>...</td>\n",
       "      <td>0</td>\n",
       "      <td>0</td>\n",
       "      <td>0</td>\n",
       "      <td>0</td>\n",
       "      <td>0</td>\n",
       "      <td>0</td>\n",
       "      <td>0</td>\n",
       "      <td>0</td>\n",
       "      <td>0</td>\n",
       "      <td>1</td>\n",
       "    </tr>\n",
       "    <tr>\n",
       "      <th>1</th>\n",
       "      <td>1</td>\n",
       "      <td>0</td>\n",
       "      <td>0</td>\n",
       "      <td>0</td>\n",
       "      <td>0</td>\n",
       "      <td>0</td>\n",
       "      <td>0</td>\n",
       "      <td>1</td>\n",
       "      <td>0</td>\n",
       "      <td>0</td>\n",
       "      <td>...</td>\n",
       "      <td>0</td>\n",
       "      <td>0</td>\n",
       "      <td>0</td>\n",
       "      <td>0</td>\n",
       "      <td>0</td>\n",
       "      <td>0</td>\n",
       "      <td>0</td>\n",
       "      <td>0</td>\n",
       "      <td>0</td>\n",
       "      <td>1</td>\n",
       "    </tr>\n",
       "    <tr>\n",
       "      <th>2</th>\n",
       "      <td>1</td>\n",
       "      <td>0</td>\n",
       "      <td>0</td>\n",
       "      <td>0</td>\n",
       "      <td>0</td>\n",
       "      <td>0</td>\n",
       "      <td>0</td>\n",
       "      <td>1</td>\n",
       "      <td>0</td>\n",
       "      <td>0</td>\n",
       "      <td>...</td>\n",
       "      <td>0</td>\n",
       "      <td>0</td>\n",
       "      <td>0</td>\n",
       "      <td>0</td>\n",
       "      <td>0</td>\n",
       "      <td>0</td>\n",
       "      <td>0</td>\n",
       "      <td>0</td>\n",
       "      <td>0</td>\n",
       "      <td>1</td>\n",
       "    </tr>\n",
       "    <tr>\n",
       "      <th>3</th>\n",
       "      <td>1</td>\n",
       "      <td>0</td>\n",
       "      <td>0</td>\n",
       "      <td>0</td>\n",
       "      <td>0</td>\n",
       "      <td>0</td>\n",
       "      <td>0</td>\n",
       "      <td>0</td>\n",
       "      <td>1</td>\n",
       "      <td>0</td>\n",
       "      <td>...</td>\n",
       "      <td>0</td>\n",
       "      <td>0</td>\n",
       "      <td>0</td>\n",
       "      <td>0</td>\n",
       "      <td>0</td>\n",
       "      <td>0</td>\n",
       "      <td>0</td>\n",
       "      <td>0</td>\n",
       "      <td>0</td>\n",
       "      <td>0</td>\n",
       "    </tr>\n",
       "    <tr>\n",
       "      <th>4</th>\n",
       "      <td>1</td>\n",
       "      <td>0</td>\n",
       "      <td>0</td>\n",
       "      <td>0</td>\n",
       "      <td>0</td>\n",
       "      <td>0</td>\n",
       "      <td>0</td>\n",
       "      <td>0</td>\n",
       "      <td>1</td>\n",
       "      <td>0</td>\n",
       "      <td>...</td>\n",
       "      <td>0</td>\n",
       "      <td>0</td>\n",
       "      <td>0</td>\n",
       "      <td>0</td>\n",
       "      <td>0</td>\n",
       "      <td>0</td>\n",
       "      <td>0</td>\n",
       "      <td>0</td>\n",
       "      <td>0</td>\n",
       "      <td>1</td>\n",
       "    </tr>\n",
       "    <tr>\n",
       "      <th>...</th>\n",
       "      <td>...</td>\n",
       "      <td>...</td>\n",
       "      <td>...</td>\n",
       "      <td>...</td>\n",
       "      <td>...</td>\n",
       "      <td>...</td>\n",
       "      <td>...</td>\n",
       "      <td>...</td>\n",
       "      <td>...</td>\n",
       "      <td>...</td>\n",
       "      <td>...</td>\n",
       "      <td>...</td>\n",
       "      <td>...</td>\n",
       "      <td>...</td>\n",
       "      <td>...</td>\n",
       "      <td>...</td>\n",
       "      <td>...</td>\n",
       "      <td>...</td>\n",
       "      <td>...</td>\n",
       "      <td>...</td>\n",
       "      <td>...</td>\n",
       "    </tr>\n",
       "    <tr>\n",
       "      <th>1064</th>\n",
       "      <td>1</td>\n",
       "      <td>1</td>\n",
       "      <td>0</td>\n",
       "      <td>0</td>\n",
       "      <td>0</td>\n",
       "      <td>0</td>\n",
       "      <td>1</td>\n",
       "      <td>0</td>\n",
       "      <td>0</td>\n",
       "      <td>0</td>\n",
       "      <td>...</td>\n",
       "      <td>0</td>\n",
       "      <td>0</td>\n",
       "      <td>0</td>\n",
       "      <td>0</td>\n",
       "      <td>0</td>\n",
       "      <td>0</td>\n",
       "      <td>0</td>\n",
       "      <td>0</td>\n",
       "      <td>0</td>\n",
       "      <td>1</td>\n",
       "    </tr>\n",
       "    <tr>\n",
       "      <th>1065</th>\n",
       "      <td>1</td>\n",
       "      <td>1</td>\n",
       "      <td>0</td>\n",
       "      <td>0</td>\n",
       "      <td>0</td>\n",
       "      <td>0</td>\n",
       "      <td>1</td>\n",
       "      <td>0</td>\n",
       "      <td>0</td>\n",
       "      <td>0</td>\n",
       "      <td>...</td>\n",
       "      <td>0</td>\n",
       "      <td>0</td>\n",
       "      <td>0</td>\n",
       "      <td>0</td>\n",
       "      <td>0</td>\n",
       "      <td>0</td>\n",
       "      <td>0</td>\n",
       "      <td>0</td>\n",
       "      <td>0</td>\n",
       "      <td>1</td>\n",
       "    </tr>\n",
       "    <tr>\n",
       "      <th>1065</th>\n",
       "      <td>1</td>\n",
       "      <td>1</td>\n",
       "      <td>0</td>\n",
       "      <td>0</td>\n",
       "      <td>0</td>\n",
       "      <td>0</td>\n",
       "      <td>1</td>\n",
       "      <td>0</td>\n",
       "      <td>0</td>\n",
       "      <td>0</td>\n",
       "      <td>...</td>\n",
       "      <td>0</td>\n",
       "      <td>0</td>\n",
       "      <td>0</td>\n",
       "      <td>0</td>\n",
       "      <td>0</td>\n",
       "      <td>0</td>\n",
       "      <td>0</td>\n",
       "      <td>0</td>\n",
       "      <td>0</td>\n",
       "      <td>1</td>\n",
       "    </tr>\n",
       "    <tr>\n",
       "      <th>1066</th>\n",
       "      <td>1</td>\n",
       "      <td>1</td>\n",
       "      <td>0</td>\n",
       "      <td>0</td>\n",
       "      <td>0</td>\n",
       "      <td>0</td>\n",
       "      <td>1</td>\n",
       "      <td>0</td>\n",
       "      <td>0</td>\n",
       "      <td>0</td>\n",
       "      <td>...</td>\n",
       "      <td>0</td>\n",
       "      <td>0</td>\n",
       "      <td>0</td>\n",
       "      <td>1</td>\n",
       "      <td>0</td>\n",
       "      <td>0</td>\n",
       "      <td>0</td>\n",
       "      <td>0</td>\n",
       "      <td>0</td>\n",
       "      <td>0</td>\n",
       "    </tr>\n",
       "    <tr>\n",
       "      <th>1067</th>\n",
       "      <td>1</td>\n",
       "      <td>1</td>\n",
       "      <td>0</td>\n",
       "      <td>0</td>\n",
       "      <td>0</td>\n",
       "      <td>0</td>\n",
       "      <td>1</td>\n",
       "      <td>0</td>\n",
       "      <td>0</td>\n",
       "      <td>0</td>\n",
       "      <td>...</td>\n",
       "      <td>0</td>\n",
       "      <td>0</td>\n",
       "      <td>0</td>\n",
       "      <td>0</td>\n",
       "      <td>0</td>\n",
       "      <td>0</td>\n",
       "      <td>0</td>\n",
       "      <td>0</td>\n",
       "      <td>0</td>\n",
       "      <td>0</td>\n",
       "    </tr>\n",
       "  </tbody>\n",
       "</table>\n",
       "<p>2705 rows × 26 columns</p>\n",
       "</div>"
      ],
      "text/plain": [
       "      usou_celular_para_internet  sexo_masculino  raca_Branca  raca_Indígena  \\\n",
       "0                              1               0            0              0   \n",
       "1                              1               0            0              0   \n",
       "2                              1               0            0              0   \n",
       "3                              1               0            0              0   \n",
       "4                              1               0            0              0   \n",
       "...                          ...             ...          ...            ...   \n",
       "1064                           1               1            0              0   \n",
       "1065                           1               1            0              0   \n",
       "1065                           1               1            0              0   \n",
       "1066                           1               1            0              0   \n",
       "1067                           1               1            0              0   \n",
       "\n",
       "      raca_Não respondesu  raca_Parda  raca_Preta  \\\n",
       "0                       0           0           0   \n",
       "1                       0           0           0   \n",
       "2                       0           0           0   \n",
       "3                       0           0           0   \n",
       "4                       0           0           0   \n",
       "...                   ...         ...         ...   \n",
       "1064                    0           0           1   \n",
       "1065                    0           0           1   \n",
       "1065                    0           0           1   \n",
       "1066                    0           0           1   \n",
       "1067                    0           0           1   \n",
       "\n",
       "      faixa_etaria_De 16 a 24 anos  faixa_etaria_De 25 a 34 anos  \\\n",
       "0                                0                             0   \n",
       "1                                1                             0   \n",
       "2                                1                             0   \n",
       "3                                0                             1   \n",
       "4                                0                             1   \n",
       "...                            ...                           ...   \n",
       "1064                             0                             0   \n",
       "1065                             0                             0   \n",
       "1065                             0                             0   \n",
       "1066                             0                             0   \n",
       "1067                             0                             0   \n",
       "\n",
       "      faixa_etaria_De 35 a 44 anos  ...  \\\n",
       "0                                0  ...   \n",
       "1                                0  ...   \n",
       "2                                0  ...   \n",
       "3                                0  ...   \n",
       "4                                0  ...   \n",
       "...                            ...  ...   \n",
       "1064                             0  ...   \n",
       "1065                             0  ...   \n",
       "1065                             0  ...   \n",
       "1066                             0  ...   \n",
       "1067                             0  ...   \n",
       "\n",
       "      renda_pessoal_De R$ 13.020,01 até R$ 26.040,00  \\\n",
       "0                                                  0   \n",
       "1                                                  0   \n",
       "2                                                  0   \n",
       "3                                                  0   \n",
       "4                                                  0   \n",
       "...                                              ...   \n",
       "1064                                               0   \n",
       "1065                                               0   \n",
       "1065                                               0   \n",
       "1066                                               0   \n",
       "1067                                               0   \n",
       "\n",
       "      renda_pessoal_De R$ 2.604,01 até R$ 3.906,00  \\\n",
       "0                                                0   \n",
       "1                                                0   \n",
       "2                                                0   \n",
       "3                                                0   \n",
       "4                                                0   \n",
       "...                                            ...   \n",
       "1064                                             0   \n",
       "1065                                             0   \n",
       "1065                                             0   \n",
       "1066                                             0   \n",
       "1067                                             0   \n",
       "\n",
       "      renda_pessoal_De R$ 26.040,01 até R$ 39.060,00  \\\n",
       "0                                                  0   \n",
       "1                                                  0   \n",
       "2                                                  0   \n",
       "3                                                  0   \n",
       "4                                                  0   \n",
       "...                                              ...   \n",
       "1064                                               0   \n",
       "1065                                               0   \n",
       "1065                                               0   \n",
       "1066                                               0   \n",
       "1067                                               0   \n",
       "\n",
       "      renda_pessoal_De R$ 3.906,01 até R$ 6.510,00  \\\n",
       "0                                                0   \n",
       "1                                                0   \n",
       "2                                                0   \n",
       "3                                                0   \n",
       "4                                                0   \n",
       "...                                            ...   \n",
       "1064                                             0   \n",
       "1065                                             0   \n",
       "1065                                             0   \n",
       "1066                                             1   \n",
       "1067                                             0   \n",
       "\n",
       "      renda_pessoal_De R$ 6.510,01 até R$ 13.020,00  \\\n",
       "0                                                 0   \n",
       "1                                                 0   \n",
       "2                                                 0   \n",
       "3                                                 0   \n",
       "4                                                 0   \n",
       "...                                             ...   \n",
       "1064                                              0   \n",
       "1065                                              0   \n",
       "1065                                              0   \n",
       "1066                                              0   \n",
       "1067                                              0   \n",
       "\n",
       "      renda_pessoal_Mais de R$ 39.060,00  renda_pessoal_Não respondeu  \\\n",
       "0                                      0                            0   \n",
       "1                                      0                            0   \n",
       "2                                      0                            0   \n",
       "3                                      0                            0   \n",
       "4                                      0                            0   \n",
       "...                                  ...                          ...   \n",
       "1064                                   0                            0   \n",
       "1065                                   0                            0   \n",
       "1065                                   0                            0   \n",
       "1066                                   0                            0   \n",
       "1067                                   0                            0   \n",
       "\n",
       "      renda_pessoal_Não sabe  renda_pessoal_Não tem renda  \\\n",
       "0                          0                            0   \n",
       "1                          0                            0   \n",
       "2                          0                            0   \n",
       "3                          0                            0   \n",
       "4                          0                            0   \n",
       "...                      ...                          ...   \n",
       "1064                       0                            0   \n",
       "1065                       0                            0   \n",
       "1065                       0                            0   \n",
       "1066                       0                            0   \n",
       "1067                       0                            0   \n",
       "\n",
       "      condicao_atividade_Na força de trabalho  \n",
       "0                                           1  \n",
       "1                                           1  \n",
       "2                                           1  \n",
       "3                                           0  \n",
       "4                                           1  \n",
       "...                                       ...  \n",
       "1064                                        1  \n",
       "1065                                        1  \n",
       "1065                                        1  \n",
       "1066                                        0  \n",
       "1067                                        0  \n",
       "\n",
       "[2705 rows x 26 columns]"
      ]
     },
     "execution_count": 42,
     "metadata": {},
     "output_type": "execute_result"
    }
   ],
   "source": [
    "df_dummies"
   ]
  },
  {
   "cell_type": "code",
   "execution_count": 43,
   "id": "628a482e-5df3-4c5d-a322-5eb843776829",
   "metadata": {},
   "outputs": [
    {
     "ename": "ImportError",
     "evalue": "DLL load failed while importing cython_lapack: Não existem recursos de sistema suficientes para concluir o serviço solicitado.",
     "output_type": "error",
     "traceback": [
      "\u001b[1;31m---------------------------------------------------------------------------\u001b[0m",
      "\u001b[1;31mImportError\u001b[0m                               Traceback (most recent call last)",
      "Cell \u001b[1;32mIn[43], line 1\u001b[0m\n\u001b[1;32m----> 1\u001b[0m \u001b[38;5;28;01mfrom\u001b[39;00m \u001b[38;5;21;01mscipy\u001b[39;00m\u001b[38;5;21;01m.\u001b[39;00m\u001b[38;5;21;01mstats\u001b[39;00m \u001b[38;5;28;01mimport\u001b[39;00m logistic\n",
      "File \u001b[1;32m~\\AppData\\Local\\Programs\\Python\\Python311\\Lib\\site-packages\\scipy\\stats\\__init__.py:485\u001b[0m\n\u001b[0;32m      1\u001b[0m \u001b[38;5;124;03m\"\"\"\u001b[39;00m\n\u001b[0;32m      2\u001b[0m \u001b[38;5;124;03m.. _statsrefmanual:\u001b[39;00m\n\u001b[0;32m      3\u001b[0m \n\u001b[1;32m   (...)\u001b[0m\n\u001b[0;32m    480\u001b[0m \n\u001b[0;32m    481\u001b[0m \u001b[38;5;124;03m\"\"\"\u001b[39;00m\n\u001b[0;32m    483\u001b[0m \u001b[38;5;28;01mfrom\u001b[39;00m \u001b[38;5;21;01m.\u001b[39;00m\u001b[38;5;21;01m_warnings_errors\u001b[39;00m \u001b[38;5;28;01mimport\u001b[39;00m (ConstantInputWarning, NearConstantInputWarning,\n\u001b[0;32m    484\u001b[0m                                DegenerateDataWarning, FitError)\n\u001b[1;32m--> 485\u001b[0m \u001b[38;5;28;01mfrom\u001b[39;00m \u001b[38;5;21;01m.\u001b[39;00m\u001b[38;5;21;01m_stats_py\u001b[39;00m \u001b[38;5;28;01mimport\u001b[39;00m \u001b[38;5;241m*\u001b[39m\n\u001b[0;32m    486\u001b[0m \u001b[38;5;28;01mfrom\u001b[39;00m \u001b[38;5;21;01m.\u001b[39;00m\u001b[38;5;21;01m_variation\u001b[39;00m \u001b[38;5;28;01mimport\u001b[39;00m variation\n\u001b[0;32m    487\u001b[0m \u001b[38;5;28;01mfrom\u001b[39;00m \u001b[38;5;21;01m.\u001b[39;00m\u001b[38;5;21;01mdistributions\u001b[39;00m \u001b[38;5;28;01mimport\u001b[39;00m \u001b[38;5;241m*\u001b[39m\n",
      "File \u001b[1;32m~\\AppData\\Local\\Programs\\Python\\Python311\\Lib\\site-packages\\scipy\\stats\\_stats_py.py:39\u001b[0m\n\u001b[0;32m     36\u001b[0m \u001b[38;5;28;01mfrom\u001b[39;00m \u001b[38;5;21;01mnumpy\u001b[39;00m\u001b[38;5;21;01m.\u001b[39;00m\u001b[38;5;21;01mlib\u001b[39;00m \u001b[38;5;28;01mimport\u001b[39;00m NumpyVersion\n\u001b[0;32m     37\u001b[0m \u001b[38;5;28;01mfrom\u001b[39;00m \u001b[38;5;21;01mnumpy\u001b[39;00m\u001b[38;5;21;01m.\u001b[39;00m\u001b[38;5;21;01mtesting\u001b[39;00m \u001b[38;5;28;01mimport\u001b[39;00m suppress_warnings\n\u001b[1;32m---> 39\u001b[0m \u001b[38;5;28;01mfrom\u001b[39;00m \u001b[38;5;21;01mscipy\u001b[39;00m\u001b[38;5;21;01m.\u001b[39;00m\u001b[38;5;21;01mspatial\u001b[39;00m\u001b[38;5;21;01m.\u001b[39;00m\u001b[38;5;21;01mdistance\u001b[39;00m \u001b[38;5;28;01mimport\u001b[39;00m cdist\n\u001b[0;32m     40\u001b[0m \u001b[38;5;28;01mfrom\u001b[39;00m \u001b[38;5;21;01mscipy\u001b[39;00m\u001b[38;5;21;01m.\u001b[39;00m\u001b[38;5;21;01mndimage\u001b[39;00m \u001b[38;5;28;01mimport\u001b[39;00m _measurements\n\u001b[0;32m     41\u001b[0m \u001b[38;5;28;01mfrom\u001b[39;00m \u001b[38;5;21;01mscipy\u001b[39;00m\u001b[38;5;21;01m.\u001b[39;00m\u001b[38;5;21;01m_lib\u001b[39;00m\u001b[38;5;21;01m.\u001b[39;00m\u001b[38;5;21;01m_util\u001b[39;00m \u001b[38;5;28;01mimport\u001b[39;00m (check_random_state, MapWrapper,\n\u001b[0;32m     42\u001b[0m                               rng_integers, _rename_parameter, _contains_nan)\n",
      "File \u001b[1;32m~\\AppData\\Local\\Programs\\Python\\Python311\\Lib\\site-packages\\scipy\\spatial\\__init__.py:105\u001b[0m\n\u001b[0;32m      1\u001b[0m \u001b[38;5;124;03m\"\"\"\u001b[39;00m\n\u001b[0;32m      2\u001b[0m \u001b[38;5;124;03m=============================================================\u001b[39;00m\n\u001b[0;32m      3\u001b[0m \u001b[38;5;124;03mSpatial algorithms and data structures (:mod:`scipy.spatial`)\u001b[39;00m\n\u001b[1;32m   (...)\u001b[0m\n\u001b[0;32m    102\u001b[0m \u001b[38;5;124;03m   QhullError\u001b[39;00m\n\u001b[0;32m    103\u001b[0m \u001b[38;5;124;03m\"\"\"\u001b[39;00m\n\u001b[1;32m--> 105\u001b[0m \u001b[38;5;28;01mfrom\u001b[39;00m \u001b[38;5;21;01m.\u001b[39;00m\u001b[38;5;21;01m_kdtree\u001b[39;00m \u001b[38;5;28;01mimport\u001b[39;00m \u001b[38;5;241m*\u001b[39m\n\u001b[0;32m    106\u001b[0m \u001b[38;5;28;01mfrom\u001b[39;00m \u001b[38;5;21;01m.\u001b[39;00m\u001b[38;5;21;01m_ckdtree\u001b[39;00m \u001b[38;5;28;01mimport\u001b[39;00m \u001b[38;5;241m*\u001b[39m\n\u001b[0;32m    107\u001b[0m \u001b[38;5;28;01mfrom\u001b[39;00m \u001b[38;5;21;01m.\u001b[39;00m\u001b[38;5;21;01m_qhull\u001b[39;00m \u001b[38;5;28;01mimport\u001b[39;00m \u001b[38;5;241m*\u001b[39m\n",
      "File \u001b[1;32m~\\AppData\\Local\\Programs\\Python\\Python311\\Lib\\site-packages\\scipy\\spatial\\_kdtree.py:4\u001b[0m\n\u001b[0;32m      1\u001b[0m \u001b[38;5;66;03m# Copyright Anne M. Archibald 2008\u001b[39;00m\n\u001b[0;32m      2\u001b[0m \u001b[38;5;66;03m# Released under the scipy license\u001b[39;00m\n\u001b[0;32m      3\u001b[0m \u001b[38;5;28;01mimport\u001b[39;00m \u001b[38;5;21;01mnumpy\u001b[39;00m \u001b[38;5;28;01mas\u001b[39;00m \u001b[38;5;21;01mnp\u001b[39;00m\n\u001b[1;32m----> 4\u001b[0m \u001b[38;5;28;01mfrom\u001b[39;00m \u001b[38;5;21;01m.\u001b[39;00m\u001b[38;5;21;01m_ckdtree\u001b[39;00m \u001b[38;5;28;01mimport\u001b[39;00m cKDTree, cKDTreeNode\n\u001b[0;32m      6\u001b[0m __all__ \u001b[38;5;241m=\u001b[39m [\u001b[38;5;124m'\u001b[39m\u001b[38;5;124mminkowski_distance_p\u001b[39m\u001b[38;5;124m'\u001b[39m, \u001b[38;5;124m'\u001b[39m\u001b[38;5;124mminkowski_distance\u001b[39m\u001b[38;5;124m'\u001b[39m,\n\u001b[0;32m      7\u001b[0m            \u001b[38;5;124m'\u001b[39m\u001b[38;5;124mdistance_matrix\u001b[39m\u001b[38;5;124m'\u001b[39m,\n\u001b[0;32m      8\u001b[0m            \u001b[38;5;124m'\u001b[39m\u001b[38;5;124mRectangle\u001b[39m\u001b[38;5;124m'\u001b[39m, \u001b[38;5;124m'\u001b[39m\u001b[38;5;124mKDTree\u001b[39m\u001b[38;5;124m'\u001b[39m]\n\u001b[0;32m     11\u001b[0m \u001b[38;5;28;01mdef\u001b[39;00m \u001b[38;5;21mminkowski_distance_p\u001b[39m(x, y, p\u001b[38;5;241m=\u001b[39m\u001b[38;5;241m2\u001b[39m):\n",
      "File \u001b[1;32m_ckdtree.pyx:10\u001b[0m, in \u001b[0;36minit scipy.spatial._ckdtree\u001b[1;34m()\u001b[0m\n",
      "File \u001b[1;32m~\\AppData\\Local\\Programs\\Python\\Python311\\Lib\\site-packages\\scipy\\sparse\\__init__.py:283\u001b[0m\n\u001b[0;32m    278\u001b[0m \u001b[38;5;28;01mfrom\u001b[39;00m \u001b[38;5;21;01m.\u001b[39;00m\u001b[38;5;21;01m_arrays\u001b[39;00m \u001b[38;5;28;01mimport\u001b[39;00m (\n\u001b[0;32m    279\u001b[0m     csr_array, csc_array, lil_array, dok_array, coo_array, dia_array, bsr_array\n\u001b[0;32m    280\u001b[0m )\n\u001b[0;32m    282\u001b[0m \u001b[38;5;66;03m# For backward compatibility with v0.19.\u001b[39;00m\n\u001b[1;32m--> 283\u001b[0m \u001b[38;5;28;01mfrom\u001b[39;00m \u001b[38;5;21;01m.\u001b[39;00m \u001b[38;5;28;01mimport\u001b[39;00m csgraph\n\u001b[0;32m    285\u001b[0m \u001b[38;5;66;03m# Deprecated namespaces, to be removed in v2.0.0\u001b[39;00m\n\u001b[0;32m    286\u001b[0m \u001b[38;5;28;01mfrom\u001b[39;00m \u001b[38;5;21;01m.\u001b[39;00m \u001b[38;5;28;01mimport\u001b[39;00m (\n\u001b[0;32m    287\u001b[0m     base, bsr, compressed, construct, coo, csc, csr, data, dia, dok, extract,\n\u001b[0;32m    288\u001b[0m     lil, sparsetools, sputils\n\u001b[0;32m    289\u001b[0m )\n",
      "File \u001b[1;32m~\\AppData\\Local\\Programs\\Python\\Python311\\Lib\\site-packages\\scipy\\sparse\\csgraph\\__init__.py:185\u001b[0m\n\u001b[0;32m    157\u001b[0m __docformat__ \u001b[38;5;241m=\u001b[39m \u001b[38;5;124m\"\u001b[39m\u001b[38;5;124mrestructuredtext en\u001b[39m\u001b[38;5;124m\"\u001b[39m\n\u001b[0;32m    159\u001b[0m __all__ \u001b[38;5;241m=\u001b[39m [\u001b[38;5;124m'\u001b[39m\u001b[38;5;124mconnected_components\u001b[39m\u001b[38;5;124m'\u001b[39m,\n\u001b[0;32m    160\u001b[0m            \u001b[38;5;124m'\u001b[39m\u001b[38;5;124mlaplacian\u001b[39m\u001b[38;5;124m'\u001b[39m,\n\u001b[0;32m    161\u001b[0m            \u001b[38;5;124m'\u001b[39m\u001b[38;5;124mshortest_path\u001b[39m\u001b[38;5;124m'\u001b[39m,\n\u001b[1;32m   (...)\u001b[0m\n\u001b[0;32m    182\u001b[0m            \u001b[38;5;124m'\u001b[39m\u001b[38;5;124mcsgraph_to_masked\u001b[39m\u001b[38;5;124m'\u001b[39m,\n\u001b[0;32m    183\u001b[0m            \u001b[38;5;124m'\u001b[39m\u001b[38;5;124mNegativeCycleError\u001b[39m\u001b[38;5;124m'\u001b[39m]\n\u001b[1;32m--> 185\u001b[0m \u001b[38;5;28;01mfrom\u001b[39;00m \u001b[38;5;21;01m.\u001b[39;00m\u001b[38;5;21;01m_laplacian\u001b[39;00m \u001b[38;5;28;01mimport\u001b[39;00m laplacian\n\u001b[0;32m    186\u001b[0m \u001b[38;5;28;01mfrom\u001b[39;00m \u001b[38;5;21;01m.\u001b[39;00m\u001b[38;5;21;01m_shortest_path\u001b[39;00m \u001b[38;5;28;01mimport\u001b[39;00m (\n\u001b[0;32m    187\u001b[0m     shortest_path, floyd_warshall, dijkstra, bellman_ford, johnson,\n\u001b[0;32m    188\u001b[0m     NegativeCycleError\n\u001b[0;32m    189\u001b[0m )\n\u001b[0;32m    190\u001b[0m \u001b[38;5;28;01mfrom\u001b[39;00m \u001b[38;5;21;01m.\u001b[39;00m\u001b[38;5;21;01m_traversal\u001b[39;00m \u001b[38;5;28;01mimport\u001b[39;00m (\n\u001b[0;32m    191\u001b[0m     breadth_first_order, depth_first_order, breadth_first_tree,\n\u001b[0;32m    192\u001b[0m     depth_first_tree, connected_components\n\u001b[0;32m    193\u001b[0m )\n",
      "File \u001b[1;32m~\\AppData\\Local\\Programs\\Python\\Python311\\Lib\\site-packages\\scipy\\sparse\\csgraph\\_laplacian.py:7\u001b[0m\n\u001b[0;32m      5\u001b[0m \u001b[38;5;28;01mimport\u001b[39;00m \u001b[38;5;21;01mnumpy\u001b[39;00m \u001b[38;5;28;01mas\u001b[39;00m \u001b[38;5;21;01mnp\u001b[39;00m\n\u001b[0;32m      6\u001b[0m \u001b[38;5;28;01mfrom\u001b[39;00m \u001b[38;5;21;01mscipy\u001b[39;00m\u001b[38;5;21;01m.\u001b[39;00m\u001b[38;5;21;01msparse\u001b[39;00m \u001b[38;5;28;01mimport\u001b[39;00m isspmatrix\n\u001b[1;32m----> 7\u001b[0m \u001b[38;5;28;01mfrom\u001b[39;00m \u001b[38;5;21;01mscipy\u001b[39;00m\u001b[38;5;21;01m.\u001b[39;00m\u001b[38;5;21;01msparse\u001b[39;00m\u001b[38;5;21;01m.\u001b[39;00m\u001b[38;5;21;01mlinalg\u001b[39;00m \u001b[38;5;28;01mimport\u001b[39;00m LinearOperator\n\u001b[0;32m     10\u001b[0m \u001b[38;5;66;03m###############################################################################\u001b[39;00m\n\u001b[0;32m     11\u001b[0m \u001b[38;5;66;03m# Graph laplacian\u001b[39;00m\n\u001b[0;32m     12\u001b[0m \u001b[38;5;28;01mdef\u001b[39;00m \u001b[38;5;21mlaplacian\u001b[39m(\n\u001b[0;32m     13\u001b[0m     csgraph,\n\u001b[0;32m     14\u001b[0m     normed\u001b[38;5;241m=\u001b[39m\u001b[38;5;28;01mFalse\u001b[39;00m,\n\u001b[1;32m   (...)\u001b[0m\n\u001b[0;32m     21\u001b[0m     symmetrized\u001b[38;5;241m=\u001b[39m\u001b[38;5;28;01mFalse\u001b[39;00m,\n\u001b[0;32m     22\u001b[0m ):\n",
      "File \u001b[1;32m~\\AppData\\Local\\Programs\\Python\\Python311\\Lib\\site-packages\\scipy\\sparse\\linalg\\__init__.py:120\u001b[0m\n\u001b[0;32m      1\u001b[0m \u001b[38;5;124;03m\"\"\"\u001b[39;00m\n\u001b[0;32m      2\u001b[0m \u001b[38;5;124;03mSparse linear algebra (:mod:`scipy.sparse.linalg`)\u001b[39;00m\n\u001b[0;32m      3\u001b[0m \u001b[38;5;124;03m==================================================\u001b[39;00m\n\u001b[1;32m   (...)\u001b[0m\n\u001b[0;32m    117\u001b[0m \n\u001b[0;32m    118\u001b[0m \u001b[38;5;124;03m\"\"\"\u001b[39;00m\n\u001b[1;32m--> 120\u001b[0m \u001b[38;5;28;01mfrom\u001b[39;00m \u001b[38;5;21;01m.\u001b[39;00m\u001b[38;5;21;01m_isolve\u001b[39;00m \u001b[38;5;28;01mimport\u001b[39;00m \u001b[38;5;241m*\u001b[39m\n\u001b[0;32m    121\u001b[0m \u001b[38;5;28;01mfrom\u001b[39;00m \u001b[38;5;21;01m.\u001b[39;00m\u001b[38;5;21;01m_dsolve\u001b[39;00m \u001b[38;5;28;01mimport\u001b[39;00m \u001b[38;5;241m*\u001b[39m\n\u001b[0;32m    122\u001b[0m \u001b[38;5;28;01mfrom\u001b[39;00m \u001b[38;5;21;01m.\u001b[39;00m\u001b[38;5;21;01m_interface\u001b[39;00m \u001b[38;5;28;01mimport\u001b[39;00m \u001b[38;5;241m*\u001b[39m\n",
      "File \u001b[1;32m~\\AppData\\Local\\Programs\\Python\\Python311\\Lib\\site-packages\\scipy\\sparse\\linalg\\_isolve\\__init__.py:6\u001b[0m\n\u001b[0;32m      4\u001b[0m \u001b[38;5;28;01mfrom\u001b[39;00m \u001b[38;5;21;01m.\u001b[39;00m\u001b[38;5;21;01miterative\u001b[39;00m \u001b[38;5;28;01mimport\u001b[39;00m \u001b[38;5;241m*\u001b[39m\n\u001b[0;32m      5\u001b[0m \u001b[38;5;28;01mfrom\u001b[39;00m \u001b[38;5;21;01m.\u001b[39;00m\u001b[38;5;21;01mminres\u001b[39;00m \u001b[38;5;28;01mimport\u001b[39;00m minres\n\u001b[1;32m----> 6\u001b[0m \u001b[38;5;28;01mfrom\u001b[39;00m \u001b[38;5;21;01m.\u001b[39;00m\u001b[38;5;21;01mlgmres\u001b[39;00m \u001b[38;5;28;01mimport\u001b[39;00m lgmres\n\u001b[0;32m      7\u001b[0m \u001b[38;5;28;01mfrom\u001b[39;00m \u001b[38;5;21;01m.\u001b[39;00m\u001b[38;5;21;01mlsqr\u001b[39;00m \u001b[38;5;28;01mimport\u001b[39;00m lsqr\n\u001b[0;32m      8\u001b[0m \u001b[38;5;28;01mfrom\u001b[39;00m \u001b[38;5;21;01m.\u001b[39;00m\u001b[38;5;21;01mlsmr\u001b[39;00m \u001b[38;5;28;01mimport\u001b[39;00m lsmr\n",
      "File \u001b[1;32m~\\AppData\\Local\\Programs\\Python\\Python311\\Lib\\site-packages\\scipy\\sparse\\linalg\\_isolve\\lgmres.py:7\u001b[0m\n\u001b[0;32m      5\u001b[0m \u001b[38;5;28;01mimport\u001b[39;00m \u001b[38;5;21;01mnumpy\u001b[39;00m \u001b[38;5;28;01mas\u001b[39;00m \u001b[38;5;21;01mnp\u001b[39;00m\n\u001b[0;32m      6\u001b[0m \u001b[38;5;28;01mfrom\u001b[39;00m \u001b[38;5;21;01mnumpy\u001b[39;00m\u001b[38;5;21;01m.\u001b[39;00m\u001b[38;5;21;01mlinalg\u001b[39;00m \u001b[38;5;28;01mimport\u001b[39;00m LinAlgError\n\u001b[1;32m----> 7\u001b[0m \u001b[38;5;28;01mfrom\u001b[39;00m \u001b[38;5;21;01mscipy\u001b[39;00m\u001b[38;5;21;01m.\u001b[39;00m\u001b[38;5;21;01mlinalg\u001b[39;00m \u001b[38;5;28;01mimport\u001b[39;00m get_blas_funcs\n\u001b[0;32m      8\u001b[0m \u001b[38;5;28;01mfrom\u001b[39;00m \u001b[38;5;21;01m.\u001b[39;00m\u001b[38;5;21;01mutils\u001b[39;00m \u001b[38;5;28;01mimport\u001b[39;00m make_system\n\u001b[0;32m     10\u001b[0m \u001b[38;5;28;01mfrom\u001b[39;00m \u001b[38;5;21;01m.\u001b[39;00m\u001b[38;5;21;01m_gcrotmk\u001b[39;00m \u001b[38;5;28;01mimport\u001b[39;00m _fgmres\n",
      "File \u001b[1;32m~\\AppData\\Local\\Programs\\Python\\Python311\\Lib\\site-packages\\scipy\\linalg\\__init__.py:209\u001b[0m\n\u001b[0;32m    207\u001b[0m \u001b[38;5;28;01mfrom\u001b[39;00m \u001b[38;5;21;01m.\u001b[39;00m\u001b[38;5;21;01m_decomp_schur\u001b[39;00m \u001b[38;5;28;01mimport\u001b[39;00m \u001b[38;5;241m*\u001b[39m\n\u001b[0;32m    208\u001b[0m \u001b[38;5;28;01mfrom\u001b[39;00m \u001b[38;5;21;01m.\u001b[39;00m\u001b[38;5;21;01m_decomp_polar\u001b[39;00m \u001b[38;5;28;01mimport\u001b[39;00m \u001b[38;5;241m*\u001b[39m\n\u001b[1;32m--> 209\u001b[0m \u001b[38;5;28;01mfrom\u001b[39;00m \u001b[38;5;21;01m.\u001b[39;00m\u001b[38;5;21;01m_matfuncs\u001b[39;00m \u001b[38;5;28;01mimport\u001b[39;00m \u001b[38;5;241m*\u001b[39m\n\u001b[0;32m    210\u001b[0m \u001b[38;5;28;01mfrom\u001b[39;00m \u001b[38;5;21;01m.\u001b[39;00m\u001b[38;5;21;01mblas\u001b[39;00m \u001b[38;5;28;01mimport\u001b[39;00m \u001b[38;5;241m*\u001b[39m\n\u001b[0;32m    211\u001b[0m \u001b[38;5;28;01mfrom\u001b[39;00m \u001b[38;5;21;01m.\u001b[39;00m\u001b[38;5;21;01mlapack\u001b[39;00m \u001b[38;5;28;01mimport\u001b[39;00m \u001b[38;5;241m*\u001b[39m\n",
      "File \u001b[1;32m~\\AppData\\Local\\Programs\\Python\\Python311\\Lib\\site-packages\\scipy\\linalg\\_matfuncs.py:20\u001b[0m\n\u001b[0;32m     18\u001b[0m \u001b[38;5;28;01mfrom\u001b[39;00m \u001b[38;5;21;01m.\u001b[39;00m\u001b[38;5;21;01m_expm_frechet\u001b[39;00m \u001b[38;5;28;01mimport\u001b[39;00m expm_frechet, expm_cond\n\u001b[0;32m     19\u001b[0m \u001b[38;5;28;01mfrom\u001b[39;00m \u001b[38;5;21;01m.\u001b[39;00m\u001b[38;5;21;01m_matfuncs_sqrtm\u001b[39;00m \u001b[38;5;28;01mimport\u001b[39;00m sqrtm\n\u001b[1;32m---> 20\u001b[0m \u001b[38;5;28;01mfrom\u001b[39;00m \u001b[38;5;21;01m.\u001b[39;00m\u001b[38;5;21;01m_matfuncs_expm\u001b[39;00m \u001b[38;5;28;01mimport\u001b[39;00m pick_pade_structure, pade_UV_calc\n\u001b[0;32m     22\u001b[0m __all__ \u001b[38;5;241m=\u001b[39m [\u001b[38;5;124m'\u001b[39m\u001b[38;5;124mexpm\u001b[39m\u001b[38;5;124m'\u001b[39m, \u001b[38;5;124m'\u001b[39m\u001b[38;5;124mcosm\u001b[39m\u001b[38;5;124m'\u001b[39m, \u001b[38;5;124m'\u001b[39m\u001b[38;5;124msinm\u001b[39m\u001b[38;5;124m'\u001b[39m, \u001b[38;5;124m'\u001b[39m\u001b[38;5;124mtanm\u001b[39m\u001b[38;5;124m'\u001b[39m, \u001b[38;5;124m'\u001b[39m\u001b[38;5;124mcoshm\u001b[39m\u001b[38;5;124m'\u001b[39m, \u001b[38;5;124m'\u001b[39m\u001b[38;5;124msinhm\u001b[39m\u001b[38;5;124m'\u001b[39m, \u001b[38;5;124m'\u001b[39m\u001b[38;5;124mtanhm\u001b[39m\u001b[38;5;124m'\u001b[39m, \u001b[38;5;124m'\u001b[39m\u001b[38;5;124mlogm\u001b[39m\u001b[38;5;124m'\u001b[39m,\n\u001b[0;32m     23\u001b[0m            \u001b[38;5;124m'\u001b[39m\u001b[38;5;124mfunm\u001b[39m\u001b[38;5;124m'\u001b[39m, \u001b[38;5;124m'\u001b[39m\u001b[38;5;124msignm\u001b[39m\u001b[38;5;124m'\u001b[39m, \u001b[38;5;124m'\u001b[39m\u001b[38;5;124msqrtm\u001b[39m\u001b[38;5;124m'\u001b[39m, \u001b[38;5;124m'\u001b[39m\u001b[38;5;124mfractional_matrix_power\u001b[39m\u001b[38;5;124m'\u001b[39m, \u001b[38;5;124m'\u001b[39m\u001b[38;5;124mexpm_frechet\u001b[39m\u001b[38;5;124m'\u001b[39m,\n\u001b[0;32m     24\u001b[0m            \u001b[38;5;124m'\u001b[39m\u001b[38;5;124mexpm_cond\u001b[39m\u001b[38;5;124m'\u001b[39m, \u001b[38;5;124m'\u001b[39m\u001b[38;5;124mkhatri_rao\u001b[39m\u001b[38;5;124m'\u001b[39m]\n\u001b[0;32m     26\u001b[0m eps \u001b[38;5;241m=\u001b[39m np\u001b[38;5;241m.\u001b[39mfinfo(\u001b[38;5;124m'\u001b[39m\u001b[38;5;124md\u001b[39m\u001b[38;5;124m'\u001b[39m)\u001b[38;5;241m.\u001b[39meps\n",
      "File \u001b[1;32mscipy\\linalg\\_matfuncs_expm.pyx:1\u001b[0m, in \u001b[0;36minit scipy.linalg._matfuncs_expm\u001b[1;34m()\u001b[0m\n",
      "\u001b[1;31mImportError\u001b[0m: DLL load failed while importing cython_lapack: Não existem recursos de sistema suficientes para concluir o serviço solicitado."
     ]
    }
   ],
   "source": [
    "from scipy.stats import logistic"
   ]
  },
  {
   "cell_type": "code",
   "execution_count": null,
   "id": "eb3b6ab8-0f4e-4e65-bf3b-36c6aec76f26",
   "metadata": {},
   "outputs": [],
   "source": []
  }
 ],
 "metadata": {
  "kernelspec": {
   "display_name": "Python 3 (ipykernel)",
   "language": "python",
   "name": "python3"
  },
  "language_info": {
   "codemirror_mode": {
    "name": "ipython",
    "version": 3
   },
   "file_extension": ".py",
   "mimetype": "text/x-python",
   "name": "python",
   "nbconvert_exporter": "python",
   "pygments_lexer": "ipython3",
   "version": "3.11.1"
  }
 },
 "nbformat": 4,
 "nbformat_minor": 5
}
